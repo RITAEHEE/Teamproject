{
 "cells": [
  {
   "cell_type": "code",
   "execution_count": 2,
   "id": "779ba787",
   "metadata": {},
   "outputs": [],
   "source": [
    "import pandas as pd\n",
    "from matplotlib import pyplot as plt\n",
    "%matplotlib inline\n",
    "%config inlineBackend.figure_format ='retina'\n",
    "import warnings\n",
    "warnings.filterwarnings(action='ignore')\n",
    "import numpy as np\n",
    "plt.rc('font', family='Malgun Gothic')\n",
    "plt.rc('axes', unicode_minus=False)\n",
    "import matplotlib.font_manager as fm\n",
    "font_path = 'C:\\Windows\\Fonts\\HMFMPYUN.TTF'\n",
    "font_prop = fm.FontProperties(fname=font_path, size=20)\n",
    "import seaborn as sns"
   ]
  },
  {
   "cell_type": "markdown",
   "id": "c743afb5",
   "metadata": {},
   "source": [
    "# 1. 전처리"
   ]
  },
  {
   "cell_type": "code",
   "execution_count": null,
   "id": "e3645a5e",
   "metadata": {},
   "outputs": [],
   "source": [
    "# g_2016=pd.read_csv('data/2016년 경기도 교통사고.csv', encoding='cp949')\n",
    "s_2016=pd.read_csv('data/2016년 서울시 교통사고.csv', encoding='cp949')\n",
    "# i_2016=pd.read_csv('data/2016년 인천시 교통사고.csv', encoding='cp949')\n",
    "# g_2017=pd.read_csv('data/2017년 경기도 교통사고.csv', encoding='cp949')\n",
    "s_2017=pd.read_csv('data/2017년 서울시 교통사고.csv', encoding='cp949')\n",
    "# i_2017=pd.read_csv('data/2017년 인천시 교통사고.csv', encoding='cp949')\n",
    "# g_2018=pd.read_csv('data/2018년 경기도 교통사고.csv', encoding='cp949')\n",
    "s_2018=pd.read_csv('data/2018년 서울시 교통사고.csv', encoding='cp949')\n",
    "# i_2018=pd.read_csv('data/2018년 인천시 교통사고.csv', encoding='cp949')\n",
    "# g_2019=pd.read_csv('data/2019년 경기도 교통사고.csv', encoding='cp949')\n",
    "s_2019=pd.read_csv('data/2019년 서울시 교통사고.csv', encoding='cp949')\n",
    "# i_2019=pd.read_csv('data/2019년 인천시 교통사고.csv', encoding='cp949')\n",
    "# g_2020=pd.read_csv('data/2020년 경기도 교통사고.csv', encoding='cp949')\n",
    "s_2020=pd.read_csv('data/2020년 서울시 교통사고.csv', encoding='cp949')\n",
    "# i_2020=pd.read_csv('data/2020년 인천시 교통사고.csv', encoding='cp949')"
   ]
  },
  {
   "cell_type": "code",
   "execution_count": null,
   "id": "765dbb2b",
   "metadata": {},
   "outputs": [],
   "source": [
    "g_2016=pd.read_csv('data/2016년 경기도 교통사고.csv', encoding='cp949')\n",
    "g_2017=pd.read_csv('data/2017년 경기도 교통사고.csv', encoding='cp949')\n",
    "g_2018=pd.read_csv('data/2018년 경기도 교통사고.csv', encoding='cp949')\n",
    "g_2019=pd.read_csv('data/2019년 경기도 교통사고.csv', encoding='cp949')\n",
    "g_2020=pd.read_csv('data/2020년 경기도 교통사고.csv', encoding='cp949')"
   ]
  },
  {
   "cell_type": "code",
   "execution_count": null,
   "id": "4d08616b",
   "metadata": {},
   "outputs": [],
   "source": [
    "#gyounggi=pd.concat([g_2016,g_2017,g_2018,g_2019,g_2020])\n",
    "seoul=pd.concat([s_2016,s_2017,s_2018,s_2019,s_2020])\n",
    "#inchon=pd.concat([i_2016,i_2017,i_2018,i_2019,i_2020])"
   ]
  },
  {
   "cell_type": "code",
   "execution_count": null,
   "id": "43e9b40f",
   "metadata": {},
   "outputs": [],
   "source": [
    "#del g_2016,g_2017,g_2018,g_2019,g_2020,s_2016,s_2017,s_2018,s_2019,s_2020,i_2016,i_2017,i_2018,i_2019,i_2020"
   ]
  },
  {
   "cell_type": "code",
   "execution_count": null,
   "id": "00c620d5",
   "metadata": {},
   "outputs": [],
   "source": [
    "#gyounggi.index=range(gyounggi.shape[0])\n",
    "#seoul.index=range(seoul.shape[0])\n",
    "#inchon.index=range(inchon.shape[0])"
   ]
  },
  {
   "cell_type": "code",
   "execution_count": null,
   "id": "4836743a",
   "metadata": {},
   "outputs": [],
   "source": [
    "#scol=seoul.columns\n",
    "#scol"
   ]
  },
  {
   "cell_type": "code",
   "execution_count": null,
   "id": "b373c2db",
   "metadata": {},
   "outputs": [],
   "source": [
    "# plt.subplots(figsize=(12,20))\n",
    "# plt.subplots_adjust(wspace=0.2, hspace=1)\n",
    "# for i in range(len(scol))\n",
    "# sns.countplot(y=scol[2], data=s)"
   ]
  },
  {
   "cell_type": "code",
   "execution_count": null,
   "id": "eda4a3fc",
   "metadata": {},
   "outputs": [],
   "source": [
    "gyounggi=pd.concat([g_2016,g_2017,g_2018,g_2019,g_2020])"
   ]
  },
  {
   "cell_type": "code",
   "execution_count": null,
   "id": "90d73179",
   "metadata": {},
   "outputs": [],
   "source": [
    "gyounggi"
   ]
  },
  {
   "cell_type": "code",
   "execution_count": null,
   "id": "1ba8d52c",
   "metadata": {},
   "outputs": [],
   "source": [
    "gyounggi_si=gyounggi[gyounggi['시군구'].str.contains('경기도')]"
   ]
  },
  {
   "cell_type": "code",
   "execution_count": null,
   "id": "f9baabb4",
   "metadata": {},
   "outputs": [],
   "source": [
    "gyounggi_si.index=range(gyounggi_si.shape[0])"
   ]
  },
  {
   "cell_type": "code",
   "execution_count": null,
   "id": "0c407d1b",
   "metadata": {},
   "outputs": [],
   "source": [
    "gyounggi_si"
   ]
  },
  {
   "cell_type": "code",
   "execution_count": null,
   "id": "453f6353",
   "metadata": {},
   "outputs": [],
   "source": [
    "gyounggi_si['시군구'].map(lambda x : x.split(' ')[1]).value_counts()/262931*100"
   ]
  },
  {
   "cell_type": "code",
   "execution_count": null,
   "id": "62fdf11d",
   "metadata": {},
   "outputs": [],
   "source": [
    "gyounggi_si['시군구'].map(lambda x : x.split(' ')[-1]).value_counts()"
   ]
  },
  {
   "cell_type": "code",
   "execution_count": null,
   "id": "c1d88932",
   "metadata": {},
   "outputs": [],
   "source": [
    "gyounggi['시군구'].value_counts()"
   ]
  },
  {
   "cell_type": "code",
   "execution_count": null,
   "id": "bd494c15",
   "metadata": {},
   "outputs": [],
   "source": [
    "gyounggi_suwon=gyounggi[gyounggi['시군구'].str.contains('수원시')]"
   ]
  },
  {
   "cell_type": "code",
   "execution_count": null,
   "id": "3c0e9525",
   "metadata": {},
   "outputs": [],
   "source": [
    "gyounggi_suwon['시군구'].map(lambda x : x.split(' ')[-1]).value_counts().head(10)"
   ]
  },
  {
   "cell_type": "code",
   "execution_count": null,
   "id": "1124e75f",
   "metadata": {},
   "outputs": [],
   "source": [
    "# seoul['사고년도']=seoul['사고일시'].map(lambda x : x.split('년')[0])\n",
    "# seoul['사고월']=seoul['사고일시'].map(lambda x : x.split('년')[1].split('월')[0].replace(' ',''))\n",
    "# seoul['사고일']=seoul['사고일시'].map(lambda x : x.split('년')[1].split('월')[1].replace(' ','').split('일')[0])\n",
    "# seoul['사고시간']=seoul['사고일시'].map(lambda x : x.split('일')[1].replace(' ',''))\n",
    "# seoul['사고날짜']=seoul['사고일시'].map(lambda x : x.split('년')[1].split('일')[0].replace(' ','')+'일')\n"
   ]
  },
  {
   "cell_type": "code",
   "execution_count": null,
   "id": "faf97e0e",
   "metadata": {},
   "outputs": [],
   "source": [
    "#day=seoul['사고날짜'].value_counts().to_frame()"
   ]
  },
  {
   "cell_type": "code",
   "execution_count": null,
   "id": "27f73a2a",
   "metadata": {},
   "outputs": [],
   "source": [
    "#day=day.reset_index()"
   ]
  },
  {
   "cell_type": "code",
   "execution_count": null,
   "id": "5aca2788",
   "metadata": {},
   "outputs": [],
   "source": [
    "gyounggi['가해운전자 성별'].value_counts()"
   ]
  },
  {
   "cell_type": "code",
   "execution_count": null,
   "id": "fc78e112",
   "metadata": {},
   "outputs": [],
   "source": [
    "day"
   ]
  },
  {
   "cell_type": "code",
   "execution_count": null,
   "id": "0746b4d3",
   "metadata": {},
   "outputs": [],
   "source": [
    "seoul.columns"
   ]
  },
  {
   "cell_type": "code",
   "execution_count": null,
   "id": "440d5162",
   "metadata": {},
   "outputs": [],
   "source": [
    "seoul['시군구']"
   ]
  },
  {
   "cell_type": "markdown",
   "id": "f9b0b06b",
   "metadata": {},
   "source": [
    "# ###########################################################################################"
   ]
  },
  {
   "cell_type": "code",
   "execution_count": null,
   "id": "f21264b1",
   "metadata": {},
   "outputs": [],
   "source": [
    "pd.set_option('display.max_columns', 35)"
   ]
  },
  {
   "cell_type": "code",
   "execution_count": null,
   "id": "84b0c852",
   "metadata": {},
   "outputs": [],
   "source": [
    "sigungu=seoul[seoul['시군구'].str.contains('시')]"
   ]
  },
  {
   "cell_type": "code",
   "execution_count": null,
   "id": "2d13cc32",
   "metadata": {},
   "outputs": [],
   "source": [
    "sigungu=sigungu[sigungu['가해운전자 성별']!='기타불명']"
   ]
  },
  {
   "cell_type": "code",
   "execution_count": null,
   "id": "0e5ac859",
   "metadata": {},
   "outputs": [],
   "source": [
    "# sigungu['구']=sigungu['시군구'].map(lambda x : x.split('시')[1].split(' ')[1])"
   ]
  },
  {
   "cell_type": "code",
   "execution_count": null,
   "id": "e04d64b6",
   "metadata": {},
   "outputs": [],
   "source": [
    "sigungu=sigungu[sigungu['가해운전자 연령'].str.contains('세')]"
   ]
  },
  {
   "cell_type": "code",
   "execution_count": null,
   "id": "38a32746",
   "metadata": {},
   "outputs": [],
   "source": [
    "sigungu=sigungu[~sigungu['도로형태'].str.contains('미분류')]"
   ]
  },
  {
   "cell_type": "code",
   "execution_count": null,
   "id": "b2bd578f",
   "metadata": {},
   "outputs": [],
   "source": [
    "sigungu=sigungu[sigungu['가해운전자 차종']!='기타불명']"
   ]
  },
  {
   "cell_type": "code",
   "execution_count": null,
   "id": "f7727369",
   "metadata": {},
   "outputs": [],
   "source": [
    "sigungu=sigungu[sigungu['가해운전자 상해정도']!='기타불명']"
   ]
  },
  {
   "cell_type": "code",
   "execution_count": null,
   "id": "ae2d8aaa",
   "metadata": {},
   "outputs": [],
   "source": [
    "sigungu=sigungu[(sigungu['피해운전자 차종']!='미분류')&(sigungu['피해운전자 차종']!='기타불명')]"
   ]
  },
  {
   "cell_type": "code",
   "execution_count": null,
   "id": "87e0b0ab",
   "metadata": {},
   "outputs": [],
   "source": [
    "sigungu=sigungu[(sigungu['피해운전자 성별']!='미분류')&(sigungu['피해운전자 성별']!='기타불명')]"
   ]
  },
  {
   "cell_type": "code",
   "execution_count": null,
   "id": "5206e92a",
   "metadata": {},
   "outputs": [],
   "source": [
    "sigungu=sigungu[(sigungu['피해운전자 연령']!='미분류')&(sigungu['피해운전자 연령']!='기타불명')]"
   ]
  },
  {
   "cell_type": "code",
   "execution_count": null,
   "id": "989b437b",
   "metadata": {},
   "outputs": [],
   "source": [
    "sigungu=sigungu[sigungu['피해운전자 상해정도']!='기타불명']"
   ]
  },
  {
   "cell_type": "code",
   "execution_count": null,
   "id": "2961f9cc",
   "metadata": {},
   "outputs": [],
   "source": [
    "sigungu.info()"
   ]
  },
  {
   "cell_type": "code",
   "execution_count": null,
   "id": "224ead82",
   "metadata": {},
   "outputs": [],
   "source": [
    "sigungu.index=range(sigungu.shape[0])"
   ]
  },
  {
   "cell_type": "code",
   "execution_count": null,
   "id": "e380fb59",
   "metadata": {},
   "outputs": [],
   "source": [
    "sigungu['구']=sigungu['시군구'].map(lambda x: x.split(' ')[1])"
   ]
  },
  {
   "cell_type": "code",
   "execution_count": null,
   "id": "039510c1",
   "metadata": {},
   "outputs": [],
   "source": [
    "sigungu['구'].value_counts()"
   ]
  },
  {
   "cell_type": "code",
   "execution_count": null,
   "id": "08ae41f9",
   "metadata": {},
   "outputs": [],
   "source": [
    "sigungu['동']=sigungu['시군구'].map(lambda x: x.split(' ')[-1].split('동')[0]+'동')"
   ]
  },
  {
   "cell_type": "code",
   "execution_count": null,
   "id": "068d9c14",
   "metadata": {},
   "outputs": [],
   "source": [
    "ind=list(sigungu['구'].value_counts().index)"
   ]
  },
  {
   "cell_type": "code",
   "execution_count": null,
   "id": "22522170",
   "metadata": {},
   "outputs": [],
   "source": [
    "dong=sigungu.groupby('구')['동'].value_counts().to_frame()"
   ]
  },
  {
   "cell_type": "code",
   "execution_count": null,
   "id": "a2ecca87",
   "metadata": {},
   "outputs": [],
   "source": [
    "dong.loc[ind[0]]"
   ]
  },
  {
   "cell_type": "code",
   "execution_count": null,
   "id": "fd681768",
   "metadata": {},
   "outputs": [],
   "source": [
    "dong.loc[ind[1]]"
   ]
  },
  {
   "cell_type": "code",
   "execution_count": null,
   "id": "4b51994a",
   "metadata": {},
   "outputs": [],
   "source": [
    "ind"
   ]
  },
  {
   "cell_type": "code",
   "execution_count": null,
   "id": "ab7c2463",
   "metadata": {},
   "outputs": [],
   "source": []
  },
  {
   "cell_type": "code",
   "execution_count": null,
   "id": "c89f8efb",
   "metadata": {},
   "outputs": [],
   "source": []
  },
  {
   "cell_type": "code",
   "execution_count": null,
   "id": "0827a993",
   "metadata": {},
   "outputs": [],
   "source": []
  },
  {
   "cell_type": "code",
   "execution_count": null,
   "id": "24a02d9c",
   "metadata": {},
   "outputs": [],
   "source": []
  },
  {
   "cell_type": "code",
   "execution_count": null,
   "id": "cf008e9d",
   "metadata": {},
   "outputs": [],
   "source": []
  },
  {
   "cell_type": "code",
   "execution_count": null,
   "id": "9edd12ae",
   "metadata": {},
   "outputs": [],
   "source": []
  },
  {
   "cell_type": "code",
   "execution_count": null,
   "id": "19dc5140",
   "metadata": {},
   "outputs": [],
   "source": []
  },
  {
   "cell_type": "code",
   "execution_count": null,
   "id": "d47be4ae",
   "metadata": {},
   "outputs": [],
   "source": []
  },
  {
   "cell_type": "code",
   "execution_count": null,
   "id": "91a370fc",
   "metadata": {},
   "outputs": [],
   "source": []
  },
  {
   "cell_type": "code",
   "execution_count": null,
   "id": "d2d1a4a7",
   "metadata": {},
   "outputs": [],
   "source": [
    "sigungu['시간']=sigungu['사고일시'].map(lambda x : x.split(\" \")[-1])"
   ]
  },
  {
   "cell_type": "code",
   "execution_count": null,
   "id": "b836e374",
   "metadata": {},
   "outputs": [],
   "source": [
    "sigungu['월']=sigungu['사고일시'].map(lambda x : x.split(\" \")[1])"
   ]
  },
  {
   "cell_type": "code",
   "execution_count": null,
   "id": "cc6609d7",
   "metadata": {},
   "outputs": [],
   "source": [
    "data=sigungu[['피해운전자 연령','가해운전자 연령','사고유형','피해운전자 차종','법규위반','시간','월','도로형태','가해운전자 차종','요일','기상상태','피해운전자 성별','노면상태','가해운전자 성별','사고내용']]"
   ]
  },
  {
   "cell_type": "code",
   "execution_count": null,
   "id": "2d03ffeb",
   "metadata": {},
   "outputs": [],
   "source": [
    "data['사고내용']=data['사고내용'].map(lambda x : 1 if x in ['중상사고','사망사고'] else 0)"
   ]
  },
  {
   "cell_type": "code",
   "execution_count": null,
   "id": "4ddc792e",
   "metadata": {},
   "outputs": [],
   "source": [
    "from xgboost import XGBClassifier\n",
    "from sklearn.model_selection import train_test_split\n",
    "from xgboost import plot_importance\n",
    "from sklearn.metrics import accuracy_score, confusion_matrix, classification_report"
   ]
  },
  {
   "cell_type": "code",
   "execution_count": null,
   "id": "e0c11ff3",
   "metadata": {},
   "outputs": [],
   "source": [
    "data['피해운전자 연령']=data['피해운전자 연령'].str.replace(\"세\",\"\")"
   ]
  },
  {
   "cell_type": "code",
   "execution_count": null,
   "id": "950632d0",
   "metadata": {},
   "outputs": [],
   "source": []
  },
  {
   "cell_type": "code",
   "execution_count": null,
   "id": "95ec1405",
   "metadata": {},
   "outputs": [],
   "source": []
  },
  {
   "cell_type": "code",
   "execution_count": null,
   "id": "e4bb26c2",
   "metadata": {},
   "outputs": [],
   "source": []
  },
  {
   "cell_type": "code",
   "execution_count": null,
   "id": "4e44a346",
   "metadata": {},
   "outputs": [],
   "source": [
    "data"
   ]
  },
  {
   "cell_type": "code",
   "execution_count": null,
   "id": "9ec0d572",
   "metadata": {},
   "outputs": [],
   "source": []
  },
  {
   "cell_type": "code",
   "execution_count": null,
   "id": "0ca2abb5",
   "metadata": {},
   "outputs": [],
   "source": []
  },
  {
   "cell_type": "code",
   "execution_count": null,
   "id": "7c1a6c36",
   "metadata": {},
   "outputs": [],
   "source": []
  },
  {
   "cell_type": "code",
   "execution_count": null,
   "id": "01e2ac41",
   "metadata": {},
   "outputs": [],
   "source": []
  },
  {
   "cell_type": "code",
   "execution_count": null,
   "id": "fada13c7",
   "metadata": {},
   "outputs": [],
   "source": [
    "data_train, data_test = train_test_split(data, test_size = 0.4)"
   ]
  },
  {
   "cell_type": "code",
   "execution_count": null,
   "id": "f0ba9a85",
   "metadata": {},
   "outputs": [],
   "source": [
    "data_train.shape, data_test.shape"
   ]
  },
  {
   "cell_type": "code",
   "execution_count": null,
   "id": "2dc95d8b",
   "metadata": {},
   "outputs": [],
   "source": [
    "cols=list(data.columns)"
   ]
  },
  {
   "cell_type": "code",
   "execution_count": null,
   "id": "3f1c12f3",
   "metadata": {},
   "outputs": [],
   "source": [
    "col_x=cols[-1]\n",
    "col_y=cols[:-1]"
   ]
  },
  {
   "cell_type": "code",
   "execution_count": null,
   "id": "8f254222",
   "metadata": {},
   "outputs": [],
   "source": [
    "model=XGBClassifier(n_estimators=500)\n",
    "model.fit(data_train[col_x], data_train[col_y])\n",
    "model"
   ]
  },
  {
   "cell_type": "code",
   "execution_count": null,
   "id": "42e43d7e",
   "metadata": {},
   "outputs": [],
   "source": []
  },
  {
   "cell_type": "code",
   "execution_count": null,
   "id": "1dcee309",
   "metadata": {},
   "outputs": [],
   "source": []
  },
  {
   "cell_type": "markdown",
   "id": "9bcca5bb",
   "metadata": {},
   "source": [
    "# #######################################################################################"
   ]
  },
  {
   "cell_type": "code",
   "execution_count": null,
   "id": "cef2f3c3",
   "metadata": {},
   "outputs": [],
   "source": [
    "import math\n",
    "sigungunai['연령대']=sigungunai['가해운전자 연령'].map(lambda x : math.floor(int(x.split('세')[0])/10)*10)"
   ]
  },
  {
   "cell_type": "code",
   "execution_count": null,
   "id": "1dc1665c",
   "metadata": {},
   "outputs": [],
   "source": [
    "sigungunai.groupby(['연령대','법규위반']).count()['사고번호'].to_frame().loc[0]"
   ]
  },
  {
   "cell_type": "code",
   "execution_count": null,
   "id": "fad6b187",
   "metadata": {},
   "outputs": [],
   "source": [
    "sigungunai.groupby(['연령대','법규위반']).count()['사고번호'].to_frame().loc[10]"
   ]
  },
  {
   "cell_type": "code",
   "execution_count": null,
   "id": "17e5d5e7",
   "metadata": {},
   "outputs": [],
   "source": [
    "sigungunai['연령대']=sigungunai['연령대'].map(lambda x : str(x)+'대')"
   ]
  },
  {
   "cell_type": "code",
   "execution_count": null,
   "id": "f4e189dd",
   "metadata": {},
   "outputs": [],
   "source": [
    "sigungunai"
   ]
  },
  {
   "cell_type": "code",
   "execution_count": null,
   "id": "ccec0ea0",
   "metadata": {},
   "outputs": [],
   "source": [
    "a20=sigungunai.groupby(['연령대','사고유형']).count()['사고번호'].to_frame().loc['20대']/22961*100"
   ]
  },
  {
   "cell_type": "code",
   "execution_count": null,
   "id": "7b63b568",
   "metadata": {},
   "outputs": [],
   "source": [
    "a30=sigungunai.groupby(['연령대','사고유형']).count()['사고번호'].to_frame().loc['30대']/30586*100"
   ]
  },
  {
   "cell_type": "code",
   "execution_count": null,
   "id": "5800f71a",
   "metadata": {},
   "outputs": [],
   "source": [
    "a40=sigungunai.groupby(['연령대','사고유형']).count()['사고번호'].to_frame().loc['40대']/33240*100"
   ]
  },
  {
   "cell_type": "code",
   "execution_count": null,
   "id": "aaf90900",
   "metadata": {},
   "outputs": [],
   "source": [
    "a50=sigungunai.groupby(['연령대','사고유형']).count()['사고번호'].to_frame().loc['50대']/45273*100"
   ]
  },
  {
   "cell_type": "code",
   "execution_count": null,
   "id": "73e69a45",
   "metadata": {},
   "outputs": [],
   "source": [
    "a60=sigungunai.groupby(['연령대','사고유형']).count()['사고번호'].to_frame().loc['60대']/35906*100"
   ]
  },
  {
   "cell_type": "code",
   "execution_count": null,
   "id": "8b1b45a7",
   "metadata": {},
   "outputs": [],
   "source": [
    "a20.plot()\n",
    "a30.plot()\n",
    "a40.plot()\n",
    "a50.plot()\n",
    "a60.plot()"
   ]
  },
  {
   "cell_type": "code",
   "execution_count": null,
   "id": "b2a57af0",
   "metadata": {},
   "outputs": [],
   "source": [
    "sigungunai['연령대'].value_counts().to_frame()"
   ]
  },
  {
   "cell_type": "markdown",
   "id": "38ad2d56",
   "metadata": {},
   "source": [
    "# 2. 지역구별  총 교통사고 횟수"
   ]
  },
  {
   "cell_type": "code",
   "execution_count": null,
   "id": "66e01169",
   "metadata": {},
   "outputs": [],
   "source": [
    "sigungunai['구'].value_counts().to_frame()"
   ]
  },
  {
   "cell_type": "code",
   "execution_count": null,
   "id": "a809eb52",
   "metadata": {},
   "outputs": [],
   "source": [
    "a=sigungunai['구'].value_counts().to_frame().reset_index()['index']\n",
    "plt.figure(figsize=(20,15))\n",
    "g=sns.barplot(data=sigungunai['구'].value_counts().to_frame().reset_index(), x='index',y='구')\n",
    "g.set_xticklabels(labels=a,rotation=30, size=15)\n",
    "plt.title('지역별 교통사고 횟수',fontsize=20)\n",
    "plt.show()"
   ]
  },
  {
   "cell_type": "markdown",
   "id": "19fbfd3e",
   "metadata": {},
   "source": [
    "# 3. 지역구, 연령대별 사고횟수"
   ]
  },
  {
   "cell_type": "code",
   "execution_count": null,
   "id": "5e14dff2",
   "metadata": {},
   "outputs": [],
   "source": [
    "a=sigungunai.groupby(['구','연령대']).count()['사고번호']\n",
    "a.unstack() # 지역구, 연령대별 사고횟수"
   ]
  },
  {
   "cell_type": "code",
   "execution_count": null,
   "id": "bb7b87fe",
   "metadata": {},
   "outputs": [],
   "source": [
    "sigungu"
   ]
  },
  {
   "cell_type": "markdown",
   "id": "f56d103d",
   "metadata": {},
   "source": [
    "# 4. "
   ]
  },
  {
   "cell_type": "code",
   "execution_count": null,
   "id": "82e4401d",
   "metadata": {},
   "outputs": [],
   "source": [
    "s_2016_sm=s_2016[s_2016['사고내용']=='사망사고']\n",
    "s_2017_sm=s_2017[s_2017['사고내용']=='사망사고']\n",
    "s_2018_sm=s_2018[s_2018['사고내용']=='사망사고']\n",
    "s_2019_sm=s_2019[s_2019['사고내용']=='사망사고']\n",
    "s_2020_sm=s_2020[s_2020['사고내용']=='사망사고']"
   ]
  },
  {
   "cell_type": "code",
   "execution_count": null,
   "id": "b87ec07e",
   "metadata": {},
   "outputs": [],
   "source": [
    "sigungunaichacha=sigungunai[sigungunai['사고유형'].str.contains('차대차')]\n",
    "sigungunaichadan=sigungunai[sigungunai['사고유형'].str.contains('차량단독')]"
   ]
  },
  {
   "cell_type": "code",
   "execution_count": null,
   "id": "4be63e8a",
   "metadata": {},
   "outputs": [],
   "source": [
    "sigungunai['사고유형'].unique()"
   ]
  },
  {
   "cell_type": "code",
   "execution_count": null,
   "id": "c2143c2a",
   "metadata": {},
   "outputs": [],
   "source": [
    "sigungunaichadan['사고내용'].value_counts()"
   ]
  },
  {
   "cell_type": "code",
   "execution_count": null,
   "id": "5c26e9bb",
   "metadata": {},
   "outputs": [],
   "source": [
    "sigungunaichacha['사고내용'].value_counts()"
   ]
  },
  {
   "cell_type": "code",
   "execution_count": null,
   "id": "c459fcef",
   "metadata": {},
   "outputs": [],
   "source": [
    "sigungunaichacha_sm=sigungunaichacha[sigungunaichacha['사고내용']=='사망사고']"
   ]
  },
  {
   "cell_type": "code",
   "execution_count": null,
   "id": "39dce70d",
   "metadata": {},
   "outputs": [],
   "source": [
    "len(sigungunaichacha_sm[sigungunaichacha_sm['가해운전자 상해정도']=='사망'])/482*100 #사망사고발생시 가해운전자 사망확률"
   ]
  },
  {
   "cell_type": "code",
   "execution_count": null,
   "id": "1aa144a4",
   "metadata": {},
   "outputs": [],
   "source": [
    "len(sigungunaichacha_sm[sigungunaichacha_sm['피해운전자 상해정도']=='사망'])/482*100 #사망사고발생시 피해운전자 사망확률"
   ]
  },
  {
   "cell_type": "code",
   "execution_count": null,
   "id": "d2fec2b8",
   "metadata": {},
   "outputs": [],
   "source": [
    "sm=pd.read_csv(\"data/12_20_death.csv\", encoding='cp949')"
   ]
  },
  {
   "cell_type": "code",
   "execution_count": null,
   "id": "080c1279",
   "metadata": {},
   "outputs": [],
   "source": [
    "sm_seoul=sm[sm['발생지시도']=='서울']"
   ]
  },
  {
   "cell_type": "code",
   "execution_count": null,
   "id": "e17c3ad1",
   "metadata": {},
   "outputs": [],
   "source": [
    "sm_seoul['주야'].value_counts()"
   ]
  },
  {
   "cell_type": "code",
   "execution_count": null,
   "id": "5fab2a5d",
   "metadata": {},
   "outputs": [],
   "source": [
    "sm_seoul['요일'].value_counts()"
   ]
  },
  {
   "cell_type": "code",
   "execution_count": null,
   "id": "352d0a5b",
   "metadata": {},
   "outputs": [],
   "source": [
    "sm_seoul"
   ]
  },
  {
   "cell_type": "code",
   "execution_count": null,
   "id": "024dc170",
   "metadata": {},
   "outputs": [],
   "source": [
    "sigungunaichacha_sm['기상상태'].value_counts()"
   ]
  },
  {
   "cell_type": "code",
   "execution_count": null,
   "id": "561e6931",
   "metadata": {},
   "outputs": [],
   "source": [
    "sigungunai"
   ]
  },
  {
   "cell_type": "code",
   "execution_count": null,
   "id": "4e04b619",
   "metadata": {},
   "outputs": [],
   "source": [
    "s_2016_nai=s_2016[s_2016['가해운전자 연령'].str.contains('세')]\n",
    "s_2016_nai['연령대']=s_2016_nai['가해운전자 연령'].map(lambda x : math.floor(int(x.split('세')[0])/10)*10)\n",
    "s_2016_nai['연령대']=s_2016_nai['연령대'].map(lambda x : str(x)+'대')\n",
    "s_2017_nai=s_2017[s_2017['가해운전자 연령'].str.contains('세')]\n",
    "s_2017_nai['연령대']=s_2017_nai['가해운전자 연령'].map(lambda x : math.floor(int(x.split('세')[0])/10)*10)\n",
    "s_2017_nai['연령대']=s_2017_nai['연령대'].map(lambda x : str(x)+'대')\n",
    "s_2018_nai=s_2018[s_2018['가해운전자 연령'].str.contains('세')]\n",
    "s_2018_nai['연령대']=s_2018_nai['가해운전자 연령'].map(lambda x : math.floor(int(x.split('세')[0])/10)*10)\n",
    "s_2018_nai['연령대']=s_2018_nai['연령대'].map(lambda x : str(x)+'대')\n",
    "s_2019_nai=s_2019[s_2019['가해운전자 연령'].str.contains('세')]\n",
    "s_2019_nai['연령대']=s_2019_nai['가해운전자 연령'].map(lambda x : math.floor(int(x.split('세')[0])/10)*10)\n",
    "s_2019_nai['연령대']=s_2019_nai['연령대'].map(lambda x : str(x)+'대')\n",
    "s_2020_nai=s_2020[s_2020['가해운전자 연령'].str.contains('세')]\n",
    "s_2020_nai['연령대']=s_2020_nai['가해운전자 연령'].map(lambda x : math.floor(int(x.split('세')[0])/10)*10)\n",
    "s_2020_nai['연령대']=s_2020_nai['연령대'].map(lambda x : str(x)+'대')"
   ]
  },
  {
   "cell_type": "code",
   "execution_count": null,
   "id": "670a6974",
   "metadata": {},
   "outputs": [],
   "source": [
    "s_2018_nai"
   ]
  },
  {
   "cell_type": "code",
   "execution_count": null,
   "id": "95e62418",
   "metadata": {},
   "outputs": [],
   "source": [
    "s_2016_nai_sm=s_2016_nai[s_2016_nai['사고내용']=='사망사고']\n",
    "s_2017_nai_sm=s_2017_nai[s_2017_nai['사고내용']=='사망사고']\n",
    "s_2018_nai_sm=s_2018_nai[s_2018_nai['사고내용']=='사망사고']\n",
    "s_2019_nai_sm=s_2019_nai[s_2019_nai['사고내용']=='사망사고']\n",
    "s_2020_nai_sm=s_2020_nai[s_2020_nai['사고내용']=='사망사고']\n"
   ]
  },
  {
   "cell_type": "code",
   "execution_count": null,
   "id": "e0f7ac84",
   "metadata": {},
   "outputs": [],
   "source": [
    "s_2016_nai_sm"
   ]
  },
  {
   "cell_type": "code",
   "execution_count": null,
   "id": "bc67d15f",
   "metadata": {},
   "outputs": [],
   "source": [
    "s_2016"
   ]
  },
  {
   "cell_type": "code",
   "execution_count": null,
   "id": "ad0c2142",
   "metadata": {},
   "outputs": [],
   "source": [
    "sm_seoul"
   ]
  },
  {
   "cell_type": "code",
   "execution_count": null,
   "id": "d5f578cf",
   "metadata": {},
   "outputs": [],
   "source": [
    "sigungunai['법규위반'].unique()"
   ]
  },
  {
   "cell_type": "code",
   "execution_count": null,
   "id": "7601510c",
   "metadata": {},
   "outputs": [],
   "source": [
    "sigungunai"
   ]
  },
  {
   "cell_type": "code",
   "execution_count": null,
   "id": "68e13aea",
   "metadata": {},
   "outputs": [],
   "source": [
    "sigungunai[(sigungunai['법규위반']=='중앙선침범')&(sigungunai['사고내용']=='사망사고')]"
   ]
  },
  {
   "cell_type": "code",
   "execution_count": null,
   "id": "0b3fda9a",
   "metadata": {},
   "outputs": [],
   "source": [
    "sm_seoul['법규위반'].value_counts()"
   ]
  },
  {
   "cell_type": "code",
   "execution_count": null,
   "id": "43d9023e",
   "metadata": {},
   "outputs": [],
   "source": [
    "sm_seoul_jungang=sm_seoul[sm_seoul['법규위반']=='중앙선 침범']\n",
    "sm_seoul_jungang.index=range(sm_seoul_jungang.shape[0])"
   ]
  },
  {
   "cell_type": "code",
   "execution_count": null,
   "id": "0878db44",
   "metadata": {},
   "outputs": [],
   "source": [
    "import folium"
   ]
  },
  {
   "cell_type": "code",
   "execution_count": null,
   "id": "e752cc47",
   "metadata": {},
   "outputs": [],
   "source": [
    "lat_mean=sm_seoul_jungang['위도'].mean()\n",
    "long_mean=sm_seoul_jungang['경도'].mean()"
   ]
  },
  {
   "cell_type": "code",
   "execution_count": null,
   "id": "f58fd062",
   "metadata": {},
   "outputs": [],
   "source": [
    "#중앙선침범 사망자 \n",
    "m=folium.Map(location=[lat_mean, long_mean],zoom_start=12)\n",
    "for i in sm_seoul_jungang.index:\n",
    "    lat=sm_seoul_jungang.loc[i, '위도']\n",
    "    long=sm_seoul_jungang.loc[i, '경도']\n",
    "    folium.CircleMarker(\n",
    "        location = [lat, long],\n",
    "        radius=3,\n",
    "        color=\"blue\"\n",
    "    ).add_to(m)\n",
    "m"
   ]
  },
  {
   "cell_type": "code",
   "execution_count": null,
   "id": "0578e19b",
   "metadata": {},
   "outputs": [],
   "source": [
    "sm_seoul_chasa=sm_seoul[sm_seoul['사고유형_대분류']=='차대사람']"
   ]
  },
  {
   "cell_type": "code",
   "execution_count": null,
   "id": "71128d1e",
   "metadata": {},
   "outputs": [],
   "source": [
    "sm_seoul_chasa_h=sm_seoul_chasa[sm_seoul_chasa['사고유형']=='횡단중']"
   ]
  },
  {
   "cell_type": "code",
   "execution_count": null,
   "id": "85ed31ca",
   "metadata": {},
   "outputs": [],
   "source": [
    "sm_seoul_chasa_h.index=range(sm_seoul_chasa_h.shape[0])"
   ]
  },
  {
   "cell_type": "code",
   "execution_count": null,
   "id": "5e362eec",
   "metadata": {},
   "outputs": [],
   "source": [
    "lat_mean=sm_seoul_chasa_h['위도'].mean()\n",
    "long_mean=sm_seoul_chasa_h['경도'].mean()"
   ]
  },
  {
   "cell_type": "code",
   "execution_count": null,
   "id": "b2cf3654",
   "metadata": {},
   "outputs": [],
   "source": [
    "# 횡단중 사망자 위치\n",
    "m=folium.Map(location=[lat_mean, long_mean],zoom_start=12)\n",
    "for i in sm_seoul_chasa_h[sm_seoul_chasa_h['발생년']==2020].index:\n",
    "    lat=sm_seoul_chasa_h.loc[i, '위도']\n",
    "    long=sm_seoul_chasa_h.loc[i, '경도']\n",
    "    folium.CircleMarker(\n",
    "        location = [lat, long],\n",
    "        radius=3,\n",
    "        color=\"blue\"\n",
    "    ).add_to(m)\n",
    "m"
   ]
  },
  {
   "cell_type": "code",
   "execution_count": null,
   "id": "3a8ef14b",
   "metadata": {},
   "outputs": [],
   "source": [
    "hwaeng=sm_seoul_chasa_h[['경도','위도']]"
   ]
  },
  {
   "cell_type": "code",
   "execution_count": null,
   "id": "47e2ac62",
   "metadata": {},
   "outputs": [],
   "source": [
    "plt.figure(figsize=(15,10))\n",
    "hwaeng.plot(x='경도', y='위도', kind='scatter')"
   ]
  },
  {
   "cell_type": "code",
   "execution_count": null,
   "id": "2937020b",
   "metadata": {},
   "outputs": [],
   "source": [
    "plt.scatter(data=hwaeng, x='경도', y='위도')"
   ]
  },
  {
   "cell_type": "code",
   "execution_count": null,
   "id": "5527f056",
   "metadata": {},
   "outputs": [],
   "source": [
    "hwaeng"
   ]
  },
  {
   "cell_type": "code",
   "execution_count": null,
   "id": "b86f4231",
   "metadata": {},
   "outputs": [],
   "source": [
    "sm_seoul_chasa_t=sm_seoul_chasa[sm_seoul_chasa['사고유형']=='차도통행중']"
   ]
  },
  {
   "cell_type": "code",
   "execution_count": null,
   "id": "cf10ff91",
   "metadata": {},
   "outputs": [],
   "source": [
    "sm_seoul_chasa_t.index=range(sm_seoul_chasa_t.shape[0])"
   ]
  },
  {
   "cell_type": "code",
   "execution_count": null,
   "id": "5db5df11",
   "metadata": {},
   "outputs": [],
   "source": [
    "sm_seoul_chasa_t"
   ]
  },
  {
   "cell_type": "code",
   "execution_count": null,
   "id": "a23230ca",
   "metadata": {},
   "outputs": [],
   "source": [
    "lat_mean=sm_seoul_chasa_t['위도'].mean()\n",
    "long_mean=sm_seoul_chasa_t['경도'].mean()"
   ]
  },
  {
   "cell_type": "code",
   "execution_count": null,
   "id": "a74f79a0",
   "metadata": {},
   "outputs": [],
   "source": [
    "# 차도통행중 사망자 위치\n",
    "m=folium.Map(location=[lat_mean, long_mean],zoom_start=12)\n",
    "for i in sm_seoul_chasa_t.index:\n",
    "    lat=sm_seoul_chasa_t.loc[i, '위도']\n",
    "    long=sm_seoul_chasa_t.loc[i, '경도']\n",
    "    folium.CircleMarker(\n",
    "        location = [lat, long],\n",
    "        radius=3,\n",
    "        color=\"blue\"\n",
    "    ).add_to(m)\n",
    "m"
   ]
  },
  {
   "cell_type": "code",
   "execution_count": null,
   "id": "e4cec6d2",
   "metadata": {},
   "outputs": [],
   "source": [
    "sm_seoul['법규위반'].value_counts()"
   ]
  },
  {
   "cell_type": "code",
   "execution_count": null,
   "id": "746462a4",
   "metadata": {},
   "outputs": [],
   "source": [
    "sm_seoul_gwasok=sm_seoul[sm_seoul['법규위반']=='과속']"
   ]
  },
  {
   "cell_type": "code",
   "execution_count": null,
   "id": "1dea6f83",
   "metadata": {},
   "outputs": [],
   "source": [
    "sm_seoul_gwasok.index=range(sm_seoul_gwasok.shape[0])"
   ]
  },
  {
   "cell_type": "code",
   "execution_count": null,
   "id": "3e9f34ed",
   "metadata": {},
   "outputs": [],
   "source": [
    "sm_seoul_gwasok"
   ]
  },
  {
   "cell_type": "code",
   "execution_count": null,
   "id": "2c8ba065",
   "metadata": {},
   "outputs": [],
   "source": [
    "sm_seoul['주야'].value_counts()/len(sm_seoul)"
   ]
  },
  {
   "cell_type": "code",
   "execution_count": null,
   "id": "2a0e5f9a",
   "metadata": {},
   "outputs": [],
   "source": [
    "sm_seoul_gwasok['주야'].value_counts()/len(sm_seoul_gwasok['주야'])"
   ]
  },
  {
   "cell_type": "code",
   "execution_count": null,
   "id": "9fe32935",
   "metadata": {},
   "outputs": [],
   "source": [
    "sm_seoul.groupby(['법규위반','주야']).count()"
   ]
  },
  {
   "cell_type": "code",
   "execution_count": null,
   "id": "58ffb8b0",
   "metadata": {},
   "outputs": [],
   "source": [
    "sm_seoul"
   ]
  },
  {
   "cell_type": "code",
   "execution_count": null,
   "id": "7f204ff7",
   "metadata": {},
   "outputs": [],
   "source": [
    "# 과속으로 인한 사망자 위치\n",
    "m=folium.Map(location=[lat_mean, long_mean],zoom_start=12)\n",
    "for i in sm_seoul_gwasok.index:\n",
    "    lat=sm_seoul_gwasok.loc[i, '위도']\n",
    "    long=sm_seoul_gwasok.loc[i, '경도']\n",
    "    folium.CircleMarker(\n",
    "        location = [lat, long],\n",
    "        radius=3,\n",
    "        color=\"blue\"\n",
    "    ).add_to(m)\n",
    "m"
   ]
  },
  {
   "cell_type": "code",
   "execution_count": null,
   "id": "20a25b45",
   "metadata": {},
   "outputs": [],
   "source": [
    "s_2016"
   ]
  },
  {
   "cell_type": "code",
   "execution_count": null,
   "id": "2f1a8e0f",
   "metadata": {},
   "outputs": [],
   "source": [
    "sm_seoul_gwasok.groupby(['발생년','주야']).count()['요일'].to_frame().reset_index()"
   ]
  },
  {
   "cell_type": "code",
   "execution_count": null,
   "id": "068d4f0d",
   "metadata": {},
   "outputs": [],
   "source": [
    "s.columns=['발생년','주야','사고횟수']\n",
    "s"
   ]
  },
  {
   "cell_type": "code",
   "execution_count": null,
   "id": "825b9416",
   "metadata": {},
   "outputs": [],
   "source": [
    "plt.figure(figsize=(20,15))\n",
    "g=sns.barplot(data=s,x='발생년',y='사고횟수',hue='주야')\n",
    "g.legend(prop={'size': 16})\n",
    "a=g.get_yticks()\n",
    "a=[int(i) for i in a]\n",
    "g.set_yticklabels(labels=a, size = 15)\n",
    "b=s['발생년'].unique()\n",
    "g.set_xticklabels(labels=b, size = 15)\n",
    "plt.title('연도별 주야간 사망사고횟수 - 법규위반:과속', fontsize=30)\n",
    "g.set_xlabel(None) \n",
    "g.set_ylabel(None)\n",
    "plt.savefig('연도별 주야간 사망사고횟수(과속).png')"
   ]
  },
  {
   "cell_type": "code",
   "execution_count": null,
   "id": "68e4a07d",
   "metadata": {},
   "outputs": [],
   "source": [
    "s['발생년'].unique()"
   ]
  },
  {
   "cell_type": "code",
   "execution_count": null,
   "id": "f6f6e5cf",
   "metadata": {},
   "outputs": [],
   "source": [
    "s_2016[(s_2016['사고내용']=='사망사고')&(s_2016['법규위반']=='과속')]"
   ]
  },
  {
   "cell_type": "code",
   "execution_count": null,
   "id": "ed5fa455",
   "metadata": {},
   "outputs": [],
   "source": [
    "seoul"
   ]
  },
  {
   "cell_type": "code",
   "execution_count": null,
   "id": "c3291125",
   "metadata": {},
   "outputs": [],
   "source": [
    "s_2016"
   ]
  },
  {
   "cell_type": "code",
   "execution_count": null,
   "id": "17b9aabb",
   "metadata": {},
   "outputs": [],
   "source": []
  },
  {
   "cell_type": "markdown",
   "id": "39c8de58",
   "metadata": {},
   "source": [
    "# ## 5. 수원"
   ]
  },
  {
   "cell_type": "code",
   "execution_count": null,
   "id": "0e862ee5",
   "metadata": {},
   "outputs": [],
   "source": [
    "a1=pd.read_csv('수원시 인구, 인구밀도/2018년 수원시 인구정보.csv', encoding='cp949', index_col=[0,1],header=2)\n",
    "a1.columns=['2018년 총 세대수','2018년 총 등록인구', '2018년 등록인구(남)', '2018년 등록인구(여)', '2018년 한국인 총 인구', '2018년 한국인 인구(남)', '2018년 한국인 인구(여)', '2018년 외국인 총 인구', '2018년 외국인 인구(남)' ,'2018년 외국인 인구(여)', '2018년 세대당 인구', '2018년 65세 이상 총 인구', '2018년 평균연령', '2018년 인구밀도(명/㎢)','2018년 면적(㎢)']"
   ]
  },
  {
   "cell_type": "code",
   "execution_count": null,
   "id": "f7f90917",
   "metadata": {},
   "outputs": [],
   "source": [
    "b1=a1['2018년 총 등록인구'].reset_index()\n",
    "b1[b1['행정구역(구동)별(2)']!='소계'].sort_values(by='2018년 총 등록인구',ascending=False)"
   ]
  },
  {
   "cell_type": "code",
   "execution_count": null,
   "id": "c3cf64e3",
   "metadata": {},
   "outputs": [],
   "source": [
    "a1['2018년 인구밀도(명/㎢)'].to_frame().sort_values(by='2018년 인구밀도(명/㎢)',ascending=False)"
   ]
  },
  {
   "cell_type": "code",
   "execution_count": null,
   "id": "77a6eb83",
   "metadata": {},
   "outputs": [],
   "source": [
    "b1"
   ]
  },
  {
   "cell_type": "code",
   "execution_count": null,
   "id": "9099fd3a",
   "metadata": {},
   "outputs": [],
   "source": [
    "a1.to_csv('2018년 수원시 인구정보.csv')"
   ]
  },
  {
   "cell_type": "code",
   "execution_count": null,
   "id": "89ac5cf0",
   "metadata": {},
   "outputs": [],
   "source": [
    "pd.read_csv('2018년 수원시 인구정보.csv')"
   ]
  },
  {
   "cell_type": "code",
   "execution_count": null,
   "id": "6225e2c7",
   "metadata": {},
   "outputs": [],
   "source": [
    "a1"
   ]
  },
  {
   "cell_type": "code",
   "execution_count": null,
   "id": "02ee2568",
   "metadata": {},
   "outputs": [],
   "source": [
    "a"
   ]
  },
  {
   "cell_type": "code",
   "execution_count": null,
   "id": "241c8b49",
   "metadata": {},
   "outputs": [],
   "source": [
    "u=pd.read_csv('data/지자체별_사고다발_지역.csv', encoding='cp949')"
   ]
  },
  {
   "cell_type": "code",
   "execution_count": null,
   "id": "a1c08b73",
   "metadata": {},
   "outputs": [],
   "source": [
    "suwon=u[u['시도시군구명'].str.contains('수원')]"
   ]
  },
  {
   "cell_type": "code",
   "execution_count": null,
   "id": "e1806e5f",
   "metadata": {},
   "outputs": [],
   "source": [
    "suwon.groupby('지점명')['사고건수'].sum().to_frame()"
   ]
  },
  {
   "cell_type": "markdown",
   "id": "9449071d",
   "metadata": {},
   "source": [
    "# 6 수원 DL"
   ]
  },
  {
   "cell_type": "code",
   "execution_count": 3,
   "id": "7ce4521d",
   "metadata": {},
   "outputs": [],
   "source": [
    "g_2016=pd.read_csv('data/2016년 경기도 교통사고.csv', encoding='cp949')\n",
    "g_2017=pd.read_csv('data/2017년 경기도 교통사고.csv', encoding='cp949')\n",
    "g_2018=pd.read_csv('data/2018년 경기도 교통사고.csv', encoding='cp949')\n",
    "g_2019=pd.read_csv('data/2019년 경기도 교통사고.csv', encoding='cp949')\n",
    "g_2020=pd.read_csv('data/2020년 경기도 교통사고.csv', encoding='cp949')"
   ]
  },
  {
   "cell_type": "code",
   "execution_count": 4,
   "id": "adc62444",
   "metadata": {},
   "outputs": [],
   "source": [
    "gyounggi=pd.concat([g_2016,g_2017,g_2018,g_2019,g_2020])"
   ]
  },
  {
   "cell_type": "code",
   "execution_count": 5,
   "id": "d1b2cdf7",
   "metadata": {},
   "outputs": [],
   "source": [
    "gyounggi_si=gyounggi[gyounggi['시군구'].str.contains('경기도')]\n",
    "gyounggi_si.index=range(gyounggi_si.shape[0])\n",
    "gyounggi_suwon=gyounggi[gyounggi['시군구'].str.contains('수원시')]"
   ]
  },
  {
   "cell_type": "code",
   "execution_count": 7,
   "id": "3a1cd620",
   "metadata": {},
   "outputs": [],
   "source": [
    "gyounggi_suwon.index=range(gyounggi_suwon.shape[0])"
   ]
  },
  {
   "cell_type": "code",
   "execution_count": 8,
   "id": "4ce22c3b",
   "metadata": {},
   "outputs": [
    {
     "data": {
      "text/html": [
       "<div>\n",
       "<style scoped>\n",
       "    .dataframe tbody tr th:only-of-type {\n",
       "        vertical-align: middle;\n",
       "    }\n",
       "\n",
       "    .dataframe tbody tr th {\n",
       "        vertical-align: top;\n",
       "    }\n",
       "\n",
       "    .dataframe thead th {\n",
       "        text-align: right;\n",
       "    }\n",
       "</style>\n",
       "<table border=\"1\" class=\"dataframe\">\n",
       "  <thead>\n",
       "    <tr style=\"text-align: right;\">\n",
       "      <th></th>\n",
       "      <th>사고번호</th>\n",
       "      <th>사고일시</th>\n",
       "      <th>요일</th>\n",
       "      <th>시군구</th>\n",
       "      <th>사고내용</th>\n",
       "      <th>사망자수</th>\n",
       "      <th>중상자수</th>\n",
       "      <th>경상자수</th>\n",
       "      <th>부상신고자수</th>\n",
       "      <th>사고유형</th>\n",
       "      <th>...</th>\n",
       "      <th>기상상태</th>\n",
       "      <th>도로형태</th>\n",
       "      <th>가해운전자 차종</th>\n",
       "      <th>가해운전자 성별</th>\n",
       "      <th>가해운전자 연령</th>\n",
       "      <th>가해운전자 상해정도</th>\n",
       "      <th>피해운전자 차종</th>\n",
       "      <th>피해운전자 성별</th>\n",
       "      <th>피해운전자 연령</th>\n",
       "      <th>피해운전자 상해정도</th>\n",
       "    </tr>\n",
       "  </thead>\n",
       "  <tbody>\n",
       "    <tr>\n",
       "      <th>0</th>\n",
       "      <td>2016010100100098</td>\n",
       "      <td>2016년 1월 1일 04시</td>\n",
       "      <td>금요일</td>\n",
       "      <td>경기도 수원시 권선구 대황교동</td>\n",
       "      <td>사망사고</td>\n",
       "      <td>1</td>\n",
       "      <td>0</td>\n",
       "      <td>0</td>\n",
       "      <td>0</td>\n",
       "      <td>차대차 - 추돌</td>\n",
       "      <td>...</td>\n",
       "      <td>맑음</td>\n",
       "      <td>단일로 - 기타</td>\n",
       "      <td>승용</td>\n",
       "      <td>남</td>\n",
       "      <td>42세</td>\n",
       "      <td>사망</td>\n",
       "      <td>화물</td>\n",
       "      <td>남</td>\n",
       "      <td>43세</td>\n",
       "      <td>상해없음</td>\n",
       "    </tr>\n",
       "    <tr>\n",
       "      <th>1</th>\n",
       "      <td>2016010100100099</td>\n",
       "      <td>2016년 1월 1일 04시</td>\n",
       "      <td>금요일</td>\n",
       "      <td>경기도 수원시 팔달구 인계동</td>\n",
       "      <td>중상사고</td>\n",
       "      <td>0</td>\n",
       "      <td>1</td>\n",
       "      <td>0</td>\n",
       "      <td>0</td>\n",
       "      <td>차대차 - 측면직각충돌</td>\n",
       "      <td>...</td>\n",
       "      <td>맑음</td>\n",
       "      <td>교차로 - 교차로부근</td>\n",
       "      <td>승용</td>\n",
       "      <td>남</td>\n",
       "      <td>57세</td>\n",
       "      <td>상해없음</td>\n",
       "      <td>승용</td>\n",
       "      <td>남</td>\n",
       "      <td>67세</td>\n",
       "      <td>중상</td>\n",
       "    </tr>\n",
       "    <tr>\n",
       "      <th>2</th>\n",
       "      <td>2016010100100122</td>\n",
       "      <td>2016년 1월 1일 05시</td>\n",
       "      <td>금요일</td>\n",
       "      <td>경기도 수원시 팔달구 우만동</td>\n",
       "      <td>경상사고</td>\n",
       "      <td>0</td>\n",
       "      <td>0</td>\n",
       "      <td>1</td>\n",
       "      <td>0</td>\n",
       "      <td>차대차 - 측면직각충돌</td>\n",
       "      <td>...</td>\n",
       "      <td>맑음</td>\n",
       "      <td>교차로 - 교차로안</td>\n",
       "      <td>화물</td>\n",
       "      <td>남</td>\n",
       "      <td>26세</td>\n",
       "      <td>상해없음</td>\n",
       "      <td>승용</td>\n",
       "      <td>남</td>\n",
       "      <td>45세</td>\n",
       "      <td>경상</td>\n",
       "    </tr>\n",
       "    <tr>\n",
       "      <th>3</th>\n",
       "      <td>2016010100100139</td>\n",
       "      <td>2016년 1월 1일 06시</td>\n",
       "      <td>금요일</td>\n",
       "      <td>경기도 수원시 팔달구 인계동</td>\n",
       "      <td>경상사고</td>\n",
       "      <td>0</td>\n",
       "      <td>0</td>\n",
       "      <td>1</td>\n",
       "      <td>0</td>\n",
       "      <td>차대차 - 기타</td>\n",
       "      <td>...</td>\n",
       "      <td>맑음</td>\n",
       "      <td>교차로 - 교차로부근</td>\n",
       "      <td>승용</td>\n",
       "      <td>남</td>\n",
       "      <td>23세</td>\n",
       "      <td>상해없음</td>\n",
       "      <td>자전거</td>\n",
       "      <td>남</td>\n",
       "      <td>20세</td>\n",
       "      <td>경상</td>\n",
       "    </tr>\n",
       "    <tr>\n",
       "      <th>4</th>\n",
       "      <td>2016010100100199</td>\n",
       "      <td>2016년 1월 1일 11시</td>\n",
       "      <td>금요일</td>\n",
       "      <td>경기도 수원시 팔달구 우만동</td>\n",
       "      <td>부상신고사고</td>\n",
       "      <td>0</td>\n",
       "      <td>0</td>\n",
       "      <td>0</td>\n",
       "      <td>1</td>\n",
       "      <td>차대사람 - 기타</td>\n",
       "      <td>...</td>\n",
       "      <td>맑음</td>\n",
       "      <td>단일로 - 기타</td>\n",
       "      <td>승용</td>\n",
       "      <td>남</td>\n",
       "      <td>31세</td>\n",
       "      <td>상해없음</td>\n",
       "      <td>보행자</td>\n",
       "      <td>여</td>\n",
       "      <td>67세</td>\n",
       "      <td>부상신고</td>\n",
       "    </tr>\n",
       "    <tr>\n",
       "      <th>...</th>\n",
       "      <td>...</td>\n",
       "      <td>...</td>\n",
       "      <td>...</td>\n",
       "      <td>...</td>\n",
       "      <td>...</td>\n",
       "      <td>...</td>\n",
       "      <td>...</td>\n",
       "      <td>...</td>\n",
       "      <td>...</td>\n",
       "      <td>...</td>\n",
       "      <td>...</td>\n",
       "      <td>...</td>\n",
       "      <td>...</td>\n",
       "      <td>...</td>\n",
       "      <td>...</td>\n",
       "      <td>...</td>\n",
       "      <td>...</td>\n",
       "      <td>...</td>\n",
       "      <td>...</td>\n",
       "      <td>...</td>\n",
       "      <td>...</td>\n",
       "    </tr>\n",
       "    <tr>\n",
       "      <th>24354</th>\n",
       "      <td>2020123100100325</td>\n",
       "      <td>2020년 12월 31일 17시</td>\n",
       "      <td>목요일</td>\n",
       "      <td>경기도 수원시 장안구 영화동</td>\n",
       "      <td>경상사고</td>\n",
       "      <td>0</td>\n",
       "      <td>0</td>\n",
       "      <td>1</td>\n",
       "      <td>0</td>\n",
       "      <td>차대차 - 추돌</td>\n",
       "      <td>...</td>\n",
       "      <td>맑음</td>\n",
       "      <td>단일로 - 기타</td>\n",
       "      <td>승용</td>\n",
       "      <td>남</td>\n",
       "      <td>61세</td>\n",
       "      <td>상해없음</td>\n",
       "      <td>화물</td>\n",
       "      <td>남</td>\n",
       "      <td>39세</td>\n",
       "      <td>경상</td>\n",
       "    </tr>\n",
       "    <tr>\n",
       "      <th>24355</th>\n",
       "      <td>2020123100100399</td>\n",
       "      <td>2020년 12월 31일 18시</td>\n",
       "      <td>목요일</td>\n",
       "      <td>경기도 수원시 권선구 호매실동</td>\n",
       "      <td>경상사고</td>\n",
       "      <td>0</td>\n",
       "      <td>0</td>\n",
       "      <td>1</td>\n",
       "      <td>0</td>\n",
       "      <td>차대차 - 추돌</td>\n",
       "      <td>...</td>\n",
       "      <td>맑음</td>\n",
       "      <td>단일로 - 기타</td>\n",
       "      <td>승용</td>\n",
       "      <td>여</td>\n",
       "      <td>19세</td>\n",
       "      <td>상해없음</td>\n",
       "      <td>승용</td>\n",
       "      <td>남</td>\n",
       "      <td>34세</td>\n",
       "      <td>경상</td>\n",
       "    </tr>\n",
       "    <tr>\n",
       "      <th>24356</th>\n",
       "      <td>2020123100100400</td>\n",
       "      <td>2020년 12월 31일 18시</td>\n",
       "      <td>목요일</td>\n",
       "      <td>경기도 수원시 권선구 입북동</td>\n",
       "      <td>경상사고</td>\n",
       "      <td>0</td>\n",
       "      <td>0</td>\n",
       "      <td>1</td>\n",
       "      <td>0</td>\n",
       "      <td>차대차 - 추돌</td>\n",
       "      <td>...</td>\n",
       "      <td>맑음</td>\n",
       "      <td>단일로 - 기타</td>\n",
       "      <td>원동기</td>\n",
       "      <td>남</td>\n",
       "      <td>21세</td>\n",
       "      <td>기타불명</td>\n",
       "      <td>승용</td>\n",
       "      <td>남</td>\n",
       "      <td>32세</td>\n",
       "      <td>경상</td>\n",
       "    </tr>\n",
       "    <tr>\n",
       "      <th>24357</th>\n",
       "      <td>2020123100100461</td>\n",
       "      <td>2020년 12월 31일 19시</td>\n",
       "      <td>목요일</td>\n",
       "      <td>경기도 수원시 영통구 매탄동</td>\n",
       "      <td>경상사고</td>\n",
       "      <td>0</td>\n",
       "      <td>0</td>\n",
       "      <td>1</td>\n",
       "      <td>0</td>\n",
       "      <td>차대사람 - 기타</td>\n",
       "      <td>...</td>\n",
       "      <td>맑음</td>\n",
       "      <td>기타 - 기타</td>\n",
       "      <td>승용</td>\n",
       "      <td>남</td>\n",
       "      <td>46세</td>\n",
       "      <td>상해없음</td>\n",
       "      <td>보행자</td>\n",
       "      <td>여</td>\n",
       "      <td>18세</td>\n",
       "      <td>경상</td>\n",
       "    </tr>\n",
       "    <tr>\n",
       "      <th>24358</th>\n",
       "      <td>2020123100100462</td>\n",
       "      <td>2020년 12월 31일 19시</td>\n",
       "      <td>목요일</td>\n",
       "      <td>경기도 수원시 권선구 권선동</td>\n",
       "      <td>경상사고</td>\n",
       "      <td>0</td>\n",
       "      <td>0</td>\n",
       "      <td>2</td>\n",
       "      <td>0</td>\n",
       "      <td>차대차 - 추돌</td>\n",
       "      <td>...</td>\n",
       "      <td>맑음</td>\n",
       "      <td>기타 - 기타</td>\n",
       "      <td>승용</td>\n",
       "      <td>남</td>\n",
       "      <td>41세</td>\n",
       "      <td>상해없음</td>\n",
       "      <td>승용</td>\n",
       "      <td>여</td>\n",
       "      <td>51세</td>\n",
       "      <td>경상</td>\n",
       "    </tr>\n",
       "  </tbody>\n",
       "</table>\n",
       "<p>24359 rows × 22 columns</p>\n",
       "</div>"
      ],
      "text/plain": [
       "                   사고번호               사고일시   요일               시군구    사고내용  \\\n",
       "0      2016010100100098    2016년 1월 1일 04시  금요일  경기도 수원시 권선구 대황교동    사망사고   \n",
       "1      2016010100100099    2016년 1월 1일 04시  금요일   경기도 수원시 팔달구 인계동    중상사고   \n",
       "2      2016010100100122    2016년 1월 1일 05시  금요일   경기도 수원시 팔달구 우만동    경상사고   \n",
       "3      2016010100100139    2016년 1월 1일 06시  금요일   경기도 수원시 팔달구 인계동    경상사고   \n",
       "4      2016010100100199    2016년 1월 1일 11시  금요일   경기도 수원시 팔달구 우만동  부상신고사고   \n",
       "...                 ...                ...  ...               ...     ...   \n",
       "24354  2020123100100325  2020년 12월 31일 17시  목요일   경기도 수원시 장안구 영화동    경상사고   \n",
       "24355  2020123100100399  2020년 12월 31일 18시  목요일  경기도 수원시 권선구 호매실동    경상사고   \n",
       "24356  2020123100100400  2020년 12월 31일 18시  목요일   경기도 수원시 권선구 입북동    경상사고   \n",
       "24357  2020123100100461  2020년 12월 31일 19시  목요일   경기도 수원시 영통구 매탄동    경상사고   \n",
       "24358  2020123100100462  2020년 12월 31일 19시  목요일   경기도 수원시 권선구 권선동    경상사고   \n",
       "\n",
       "       사망자수  중상자수  경상자수  부상신고자수          사고유형  ... 기상상태         도로형태 가해운전자 차종  \\\n",
       "0         1     0     0       0      차대차 - 추돌  ...   맑음     단일로 - 기타       승용   \n",
       "1         0     1     0       0  차대차 - 측면직각충돌  ...   맑음  교차로 - 교차로부근       승용   \n",
       "2         0     0     1       0  차대차 - 측면직각충돌  ...   맑음   교차로 - 교차로안       화물   \n",
       "3         0     0     1       0      차대차 - 기타  ...   맑음  교차로 - 교차로부근       승용   \n",
       "4         0     0     0       1     차대사람 - 기타  ...   맑음     단일로 - 기타       승용   \n",
       "...     ...   ...   ...     ...           ...  ...  ...          ...      ...   \n",
       "24354     0     0     1       0      차대차 - 추돌  ...   맑음     단일로 - 기타       승용   \n",
       "24355     0     0     1       0      차대차 - 추돌  ...   맑음     단일로 - 기타       승용   \n",
       "24356     0     0     1       0      차대차 - 추돌  ...   맑음     단일로 - 기타      원동기   \n",
       "24357     0     0     1       0     차대사람 - 기타  ...   맑음      기타 - 기타       승용   \n",
       "24358     0     0     2       0      차대차 - 추돌  ...   맑음      기타 - 기타       승용   \n",
       "\n",
       "      가해운전자 성별 가해운전자 연령 가해운전자 상해정도 피해운전자 차종 피해운전자 성별 피해운전자 연령 피해운전자 상해정도  \n",
       "0            남      42세         사망       화물        남      43세       상해없음  \n",
       "1            남      57세       상해없음       승용        남      67세         중상  \n",
       "2            남      26세       상해없음       승용        남      45세         경상  \n",
       "3            남      23세       상해없음      자전거        남      20세         경상  \n",
       "4            남      31세       상해없음      보행자        여      67세       부상신고  \n",
       "...        ...      ...        ...      ...      ...      ...        ...  \n",
       "24354        남      61세       상해없음       화물        남      39세         경상  \n",
       "24355        여      19세       상해없음       승용        남      34세         경상  \n",
       "24356        남      21세       기타불명       승용        남      32세         경상  \n",
       "24357        남      46세       상해없음      보행자        여      18세         경상  \n",
       "24358        남      41세       상해없음       승용        여      51세         경상  \n",
       "\n",
       "[24359 rows x 22 columns]"
      ]
     },
     "execution_count": 8,
     "metadata": {},
     "output_type": "execute_result"
    }
   ],
   "source": []
  },
  {
   "cell_type": "code",
   "execution_count": null,
   "id": "5e27a440",
   "metadata": {},
   "outputs": [],
   "source": []
  }
 ],
 "metadata": {
  "kernelspec": {
   "display_name": "Python 3",
   "language": "python",
   "name": "python3"
  },
  "language_info": {
   "codemirror_mode": {
    "name": "ipython",
    "version": 3
   },
   "file_extension": ".py",
   "mimetype": "text/x-python",
   "name": "python",
   "nbconvert_exporter": "python",
   "pygments_lexer": "ipython3",
   "version": "3.8.8"
  },
  "toc": {
   "base_numbering": 1,
   "nav_menu": {},
   "number_sections": false,
   "sideBar": true,
   "skip_h1_title": false,
   "title_cell": "Table of Contents",
   "title_sidebar": "Contents",
   "toc_cell": false,
   "toc_position": {},
   "toc_section_display": true,
   "toc_window_display": true
  },
  "varInspector": {
   "cols": {
    "lenName": 16,
    "lenType": 16,
    "lenVar": 40
   },
   "kernels_config": {
    "python": {
     "delete_cmd_postfix": "",
     "delete_cmd_prefix": "del ",
     "library": "var_list.py",
     "varRefreshCmd": "print(var_dic_list())"
    },
    "r": {
     "delete_cmd_postfix": ") ",
     "delete_cmd_prefix": "rm(",
     "library": "var_list.r",
     "varRefreshCmd": "cat(var_dic_list()) "
    }
   },
   "position": {
    "height": "370px",
    "left": "1146px",
    "right": "20px",
    "top": "120px",
    "width": "350px"
   },
   "types_to_exclude": [
    "module",
    "function",
    "builtin_function_or_method",
    "instance",
    "_Feature"
   ],
   "window_display": false
  }
 },
 "nbformat": 4,
 "nbformat_minor": 5
}
