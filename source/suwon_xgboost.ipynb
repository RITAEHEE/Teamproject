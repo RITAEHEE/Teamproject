{
 "cells": [
  {
   "cell_type": "code",
   "execution_count": 1,
   "id": "a5326c1f",
   "metadata": {},
   "outputs": [],
   "source": [
    "import pandas as pd \n",
    "import numpy as np\n",
    "import matplotlib.pyplot as plt\n",
    "from sklearn.ensemble import VotingClassifier\n",
    "from sklearn.linear_model import LogisticRegression\n",
    "from sklearn.ensemble import RandomForestClassifier\n",
    "from sklearn.svm import SVC\n",
    "from sklearn.model_selection import train_test_split\n",
    "from sklearn.metrics import accuracy_score\n",
    "from sklearn.preprocessing import LabelEncoder\n",
    "from xgboost import XGBClassifier, plot_importance\n",
    "from sklearn.inspection import partial_dependence, plot_partial_dependence\n",
    "pd.set_option('display.max_columns', 100)\n",
    "plt.rc('font', family='Malgun Gothic') "
   ]
  },
  {
   "cell_type": "code",
   "execution_count": 2,
   "id": "0c25bd7e",
   "metadata": {},
   "outputs": [],
   "source": [
    "suwon_df = pd.read_csv(r\"C:\\Users\\tjoeun707-12\\Desktop\\그룹프로젝트\\suwon_high_df.csv\",encoding='cp949')\n",
    "del suwon_df[\"Unnamed: 0\"]"
   ]
  },
  {
   "cell_type": "code",
   "execution_count": 3,
   "id": "4b434014",
   "metadata": {},
   "outputs": [],
   "source": [
    "cols = [col for col in suwon_df.columns if col != \"사고내용\"]"
   ]
  },
  {
   "cell_type": "code",
   "execution_count": 4,
   "id": "9c1ad76f",
   "metadata": {},
   "outputs": [],
   "source": [
    "le = LabelEncoder()"
   ]
  },
  {
   "cell_type": "code",
   "execution_count": 5,
   "id": "3d99e467",
   "metadata": {},
   "outputs": [],
   "source": [
    "cols_cat = [col for col in cols if col not in [\"가해운전자.연령\",\"피해운전자.연령\"]]\n",
    "\n",
    "for col in cols_cat:\n",
    "    suwon_df[col] = le.fit_transform(suwon_df[col])"
   ]
  },
  {
   "cell_type": "code",
   "execution_count": 6,
   "id": "df00375e",
   "metadata": {},
   "outputs": [],
   "source": [
    "X = suwon_df[cols]\n",
    "y = suwon_df[\"사고내용\"]"
   ]
  },
  {
   "cell_type": "code",
   "execution_count": 7,
   "id": "78046dad",
   "metadata": {},
   "outputs": [],
   "source": [
    "# X = pd.get_dummies(data = X,columns= cols)\n",
    "X_train, X_test, y_train, y_test = train_test_split(X,y,test_size=0.2,random_state=123)"
   ]
  },
  {
   "cell_type": "code",
   "execution_count": 8,
   "id": "793fa642",
   "metadata": {},
   "outputs": [
    {
     "name": "stdout",
     "output_type": "stream",
     "text": [
      "[15:20:32] WARNING: C:/Users/Administrator/workspace/xgboost-win64_release_1.4.0/src/learner.cc:573: \n",
      "Parameters: { \"n_estimatrs\" } might not be used.\n",
      "\n",
      "  This may not be accurate due to some parameters are only used in language bindings but\n",
      "  passed down to XGBoost core.  Or some parameters are not used but slip through this\n",
      "  verification. Please open an issue if you find above cases.\n",
      "\n",
      "\n",
      "[0]\tvalidation_0-logloss:0.67331\n",
      "[1]\tvalidation_0-logloss:0.65717\n",
      "[2]\tvalidation_0-logloss:0.64386\n",
      "[3]\tvalidation_0-logloss:0.63282\n",
      "[4]\tvalidation_0-logloss:0.62372\n",
      "[5]\tvalidation_0-logloss:0.61595\n",
      "[6]\tvalidation_0-logloss:0.60951\n",
      "[7]\tvalidation_0-logloss:0.60441\n",
      "[8]\tvalidation_0-logloss:0.59973\n",
      "[9]\tvalidation_0-logloss:0.59473\n",
      "[10]\tvalidation_0-logloss:0.59202\n",
      "[11]\tvalidation_0-logloss:0.58877\n",
      "[12]\tvalidation_0-logloss:0.58633\n",
      "[13]\tvalidation_0-logloss:0.58454\n",
      "[14]\tvalidation_0-logloss:0.58200\n",
      "[15]\tvalidation_0-logloss:0.58107\n",
      "[16]\tvalidation_0-logloss:0.58065\n",
      "[17]\tvalidation_0-logloss:0.57972\n",
      "[18]\tvalidation_0-logloss:0.57817\n",
      "[19]\tvalidation_0-logloss:0.57732\n",
      "[20]\tvalidation_0-logloss:0.57660\n",
      "[21]\tvalidation_0-logloss:0.57588\n",
      "[22]\tvalidation_0-logloss:0.57509\n",
      "[23]\tvalidation_0-logloss:0.57538\n",
      "[24]\tvalidation_0-logloss:0.57517\n",
      "[25]\tvalidation_0-logloss:0.57453\n",
      "[26]\tvalidation_0-logloss:0.57403\n",
      "[27]\tvalidation_0-logloss:0.57388\n",
      "[28]\tvalidation_0-logloss:0.57407\n",
      "[29]\tvalidation_0-logloss:0.57335\n",
      "[30]\tvalidation_0-logloss:0.57362\n",
      "[31]\tvalidation_0-logloss:0.57348\n",
      "[32]\tvalidation_0-logloss:0.57319\n",
      "[33]\tvalidation_0-logloss:0.57312\n",
      "[34]\tvalidation_0-logloss:0.57286\n",
      "[35]\tvalidation_0-logloss:0.57317\n",
      "[36]\tvalidation_0-logloss:0.57301\n",
      "[37]\tvalidation_0-logloss:0.57260\n",
      "[38]\tvalidation_0-logloss:0.57288\n",
      "[39]\tvalidation_0-logloss:0.57259\n",
      "[40]\tvalidation_0-logloss:0.57296\n"
     ]
    },
    {
     "name": "stderr",
     "output_type": "stream",
     "text": [
      "C:\\Users\\tjoeun707-12\\anaconda3\\lib\\site-packages\\xgboost\\sklearn.py:1146: UserWarning: The use of label encoder in XGBClassifier is deprecated and will be removed in a future release. To remove this warning, do the following: 1) Pass option use_label_encoder=False when constructing XGBClassifier object; and 2) Encode your labels (y) as integers starting with 0, i.e. 0, 1, 2, ..., [num_class - 1].\n",
      "  warnings.warn(label_encoder_deprecation_msg, UserWarning)\n"
     ]
    },
    {
     "name": "stdout",
     "output_type": "stream",
     "text": [
      "[41]\tvalidation_0-logloss:0.57259\n",
      "[42]\tvalidation_0-logloss:0.57259\n",
      "[43]\tvalidation_0-logloss:0.57214\n",
      "[44]\tvalidation_0-logloss:0.57205\n",
      "[45]\tvalidation_0-logloss:0.57172\n",
      "[46]\tvalidation_0-logloss:0.57177\n",
      "[47]\tvalidation_0-logloss:0.57217\n",
      "[48]\tvalidation_0-logloss:0.57207\n",
      "[49]\tvalidation_0-logloss:0.57206\n",
      "[50]\tvalidation_0-logloss:0.57173\n",
      "[51]\tvalidation_0-logloss:0.57179\n",
      "[52]\tvalidation_0-logloss:0.57173\n",
      "[53]\tvalidation_0-logloss:0.57169\n",
      "[54]\tvalidation_0-logloss:0.57188\n",
      "[55]\tvalidation_0-logloss:0.57168\n",
      "[56]\tvalidation_0-logloss:0.57176\n",
      "[57]\tvalidation_0-logloss:0.57175\n",
      "[58]\tvalidation_0-logloss:0.57185\n",
      "[59]\tvalidation_0-logloss:0.57184\n",
      "[60]\tvalidation_0-logloss:0.57185\n",
      "[61]\tvalidation_0-logloss:0.57182\n",
      "[62]\tvalidation_0-logloss:0.57184\n",
      "[63]\tvalidation_0-logloss:0.57212\n",
      "[64]\tvalidation_0-logloss:0.57204\n",
      "[65]\tvalidation_0-logloss:0.57215\n",
      "[66]\tvalidation_0-logloss:0.57220\n",
      "[67]\tvalidation_0-logloss:0.57200\n",
      "[68]\tvalidation_0-logloss:0.57198\n",
      "[69]\tvalidation_0-logloss:0.57202\n",
      "[70]\tvalidation_0-logloss:0.57201\n",
      "[71]\tvalidation_0-logloss:0.57195\n",
      "[72]\tvalidation_0-logloss:0.57204\n",
      "[73]\tvalidation_0-logloss:0.57208\n",
      "[74]\tvalidation_0-logloss:0.57238\n",
      "[75]\tvalidation_0-logloss:0.57250\n",
      "[76]\tvalidation_0-logloss:0.57229\n",
      "[77]\tvalidation_0-logloss:0.57247\n",
      "[78]\tvalidation_0-logloss:0.57235\n",
      "[79]\tvalidation_0-logloss:0.57240\n",
      "[80]\tvalidation_0-logloss:0.57247\n",
      "[81]\tvalidation_0-logloss:0.57248\n",
      "[82]\tvalidation_0-logloss:0.57248\n",
      "[83]\tvalidation_0-logloss:0.57240\n",
      "[84]\tvalidation_0-logloss:0.57257\n",
      "[85]\tvalidation_0-logloss:0.57257\n",
      "[86]\tvalidation_0-logloss:0.57264\n",
      "[87]\tvalidation_0-logloss:0.57292\n",
      "[88]\tvalidation_0-logloss:0.57321\n",
      "[89]\tvalidation_0-logloss:0.57315\n",
      "[90]\tvalidation_0-logloss:0.57338\n",
      "[91]\tvalidation_0-logloss:0.57328\n",
      "[92]\tvalidation_0-logloss:0.57335\n",
      "[93]\tvalidation_0-logloss:0.57346\n",
      "[94]\tvalidation_0-logloss:0.57342\n",
      "[95]\tvalidation_0-logloss:0.57373\n",
      "[96]\tvalidation_0-logloss:0.57360\n",
      "[97]\tvalidation_0-logloss:0.57356\n",
      "[98]\tvalidation_0-logloss:0.57364\n",
      "[99]\tvalidation_0-logloss:0.57367\n",
      "xgboost 정확도: 0.708\n"
     ]
    }
   ],
   "source": [
    "evals = [(X_test,y_test)]\n",
    "xgb_wrapper = XGBClassifier(n_estimatrs=400,learning_rate=0.1,max_depth=3)\n",
    "xgb_wrapper.fit(X_train,y_train, early_stopping_rounds=200,eval_set=evals, eval_metric=\"logloss\")\n",
    "y_pred = xgb_wrapper.predict(X_test)\n",
    "print(\"xgboost 정확도: %.3f\"%accuracy_score(y_test,y_pred))"
   ]
  },
  {
   "cell_type": "code",
   "execution_count": 9,
   "id": "e8ee36a4",
   "metadata": {
    "scrolled": true
   },
   "outputs": [
    {
     "data": {
      "text/plain": [
       "<AxesSubplot:title={'center':'Feature importance'}, xlabel='F score', ylabel='Features'>"
      ]
     },
     "execution_count": 9,
     "metadata": {},
     "output_type": "execute_result"
    },
    {
     "data": {
      "image/png": "[encoded data removed]",
      "text/plain": [
       "<Figure size 432x288 with 1 Axes>"
      ]
     },
     "metadata": {
      "needs_background": "light"
     },
     "output_type": "display_data"
    }
   ],
   "source": [
    "plot_importance(xgb_wrapper)"
   ]
  },
  {
   "cell_type": "code",
   "execution_count": 22,
   "id": "cd1e10dd",
   "metadata": {},
   "outputs": [
    {
     "data": {
      "text/plain": [
       "<sklearn.inspection._plot.partial_dependence.PartialDependenceDisplay at 0x1ee9e2dce80>"
      ]
     },
     "execution_count": 22,
     "metadata": {},
     "output_type": "execute_result"
    },
    {
     "data": {
      "image/png": "[encoded data removed]",
      "text/plain": [
       "<Figure size 432x288 with 2 Axes>"
      ]
     },
     "metadata": {
      "needs_background": "light"
     },
     "output_type": "display_data"
    }
   ],
   "source": [
    "plot_partial_dependence(xgb_wrapper, X_test, ['피해운전자.연령'])"
   ]
  },
  {
   "cell_type": "code",
   "execution_count": 13,
   "id": "169c75ea",
   "metadata": {},
   "outputs": [
    {
     "data": {
      "text/plain": [
       "<sklearn.inspection._plot.partial_dependence.PartialDependenceDisplay at 0x1ee9df60460>"
      ]
     },
     "execution_count": 13,
     "metadata": {},
     "output_type": "execute_result"
    },
    {
     "data": {
      "image/png": "[encoded data removed]",
      "text/plain": [
       "<Figure size 432x288 with 2 Axes>"
      ]
     },
     "metadata": {
      "needs_background": "light"
     },
     "output_type": "display_data"
    }
   ],
   "source": [
    "plot_partial_dependence(xgb_wrapper, X_test, ['사고유형']) ## 차대차 - 추돌일 때 가장 최대"
   ]
  },
  {
   "cell_type": "code",
   "execution_count": 21,
   "id": "010c10a5",
   "metadata": {},
   "outputs": [
    {
     "data": {
      "text/plain": [
       "<sklearn.inspection._plot.partial_dependence.PartialDependenceDisplay at 0x1ee9e10ba90>"
      ]
     },
     "execution_count": 21,
     "metadata": {},
     "output_type": "execute_result"
    },
    {
     "data": {
      "image/png": "[encoded data removed]",
      "text/plain": [
       "<Figure size 432x288 with 2 Axes>"
      ]
     },
     "metadata": {
      "needs_background": "light"
     },
     "output_type": "display_data"
    }
   ],
   "source": [
    "plot_partial_dependence(xgb_wrapper, X_test, ['가해운전자.연령']) "
   ]
  }
 ],
 "metadata": {
  "kernelspec": {
   "display_name": "Python 3",
   "language": "python",
   "name": "python3"
  },
  "language_info": {
   "codemirror_mode": {
    "name": "ipython",
    "version": 3
   },
   "file_extension": ".py",
   "mimetype": "text/x-python",
   "name": "python",
   "nbconvert_exporter": "python",
   "pygments_lexer": "ipython3",
   "version": "3.8.8"
  },
  "toc": {
   "base_numbering": 1,
   "nav_menu": {},
   "number_sections": true,
   "sideBar": true,
   "skip_h1_title": false,
   "title_cell": "Table of Contents",
   "title_sidebar": "Contents",
   "toc_cell": false,
   "toc_position": {},
   "toc_section_display": true,
   "toc_window_display": false
  },
  "varInspector": {
   "cols": {
    "lenName": 16,
    "lenType": 16,
    "lenVar": 40
   },
   "kernels_config": {
    "python": {
     "delete_cmd_postfix": "",
     "delete_cmd_prefix": "del ",
     "library": "var_list.py",
     "varRefreshCmd": "print(var_dic_list())"
    },
    "r": {
     "delete_cmd_postfix": ") ",
     "delete_cmd_prefix": "rm(",
     "library": "var_list.r",
     "varRefreshCmd": "cat(var_dic_list()) "
    }
   },
   "types_to_exclude": [
    "module",
    "function",
    "builtin_function_or_method",
    "instance",
    "_Feature"
   ],
   "window_display": false
  }
 },
 "nbformat": 4,
 "nbformat_minor": 5
}
