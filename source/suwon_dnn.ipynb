{
 "cells": [
  {
   "cell_type": "code",
   "execution_count": 1,
   "id": "b10f179f",
   "metadata": {},
   "outputs": [],
   "source": [
    "import pandas as pd\n",
    "import numpy as np\n",
    "from sklearn.preprocessing import LabelEncoder\n",
    "from sklearn.preprocessing import MinMaxScaler\n",
    "from sklearn.model_selection import train_test_split\n",
    "from tensorflow.keras.models import Sequential\n",
    "from tensorflow.keras.layers import Dense, Dropout, Input\n",
    "from tensorflow.keras import metrics"
   ]
  },
  {
   "cell_type": "code",
   "execution_count": 2,
   "id": "723918e7",
   "metadata": {},
   "outputs": [],
   "source": [
    "suwon_dnn = pd.read_csv(r\"C:\\Users\\tjoeun707-12\\Desktop\\그룹프로젝트\\data\\suwon_dnn.csv\",encoding=\"cp949\")"
   ]
  },
  {
   "cell_type": "code",
   "execution_count": 3,
   "id": "7d46461e",
   "metadata": {},
   "outputs": [
    {
     "data": {
      "text/html": [
       "<div>\n",
       "<style scoped>\n",
       "    .dataframe tbody tr th:only-of-type {\n",
       "        vertical-align: middle;\n",
       "    }\n",
       "\n",
       "    .dataframe tbody tr th {\n",
       "        vertical-align: top;\n",
       "    }\n",
       "\n",
       "    .dataframe thead th {\n",
       "        text-align: right;\n",
       "    }\n",
       "</style>\n",
       "<table border=\"1\" class=\"dataframe\">\n",
       "  <thead>\n",
       "    <tr style=\"text-align: right;\">\n",
       "      <th></th>\n",
       "      <th>요일</th>\n",
       "      <th>사고내용</th>\n",
       "      <th>법규위반</th>\n",
       "      <th>노면상태</th>\n",
       "      <th>기상상태</th>\n",
       "      <th>도로형태</th>\n",
       "      <th>가해운전자_차종</th>\n",
       "      <th>가해운전자_성별</th>\n",
       "      <th>가해운전자_연령</th>\n",
       "      <th>행정동</th>\n",
       "      <th>발생월</th>\n",
       "      <th>발생시간</th>\n",
       "    </tr>\n",
       "  </thead>\n",
       "  <tbody>\n",
       "    <tr>\n",
       "      <th>0</th>\n",
       "      <td>금요일</td>\n",
       "      <td>1</td>\n",
       "      <td>안전운전불이행</td>\n",
       "      <td>포장 - 건조</td>\n",
       "      <td>맑음</td>\n",
       "      <td>단일로 - 기타</td>\n",
       "      <td>승용</td>\n",
       "      <td>남</td>\n",
       "      <td>42</td>\n",
       "      <td>대황교동</td>\n",
       "      <td>1</td>\n",
       "      <td>4</td>\n",
       "    </tr>\n",
       "    <tr>\n",
       "      <th>1</th>\n",
       "      <td>금요일</td>\n",
       "      <td>1</td>\n",
       "      <td>신호위반</td>\n",
       "      <td>포장 - 건조</td>\n",
       "      <td>맑음</td>\n",
       "      <td>교차로 - 교차로부근</td>\n",
       "      <td>승용</td>\n",
       "      <td>남</td>\n",
       "      <td>57</td>\n",
       "      <td>인계동</td>\n",
       "      <td>1</td>\n",
       "      <td>4</td>\n",
       "    </tr>\n",
       "    <tr>\n",
       "      <th>2</th>\n",
       "      <td>금요일</td>\n",
       "      <td>0</td>\n",
       "      <td>신호위반</td>\n",
       "      <td>포장 - 건조</td>\n",
       "      <td>맑음</td>\n",
       "      <td>교차로 - 교차로안</td>\n",
       "      <td>화물</td>\n",
       "      <td>남</td>\n",
       "      <td>26</td>\n",
       "      <td>우만동</td>\n",
       "      <td>1</td>\n",
       "      <td>5</td>\n",
       "    </tr>\n",
       "    <tr>\n",
       "      <th>3</th>\n",
       "      <td>금요일</td>\n",
       "      <td>0</td>\n",
       "      <td>안전운전불이행</td>\n",
       "      <td>포장 - 건조</td>\n",
       "      <td>맑음</td>\n",
       "      <td>교차로 - 교차로부근</td>\n",
       "      <td>승용</td>\n",
       "      <td>남</td>\n",
       "      <td>23</td>\n",
       "      <td>인계동</td>\n",
       "      <td>1</td>\n",
       "      <td>6</td>\n",
       "    </tr>\n",
       "    <tr>\n",
       "      <th>4</th>\n",
       "      <td>금요일</td>\n",
       "      <td>0</td>\n",
       "      <td>안전운전불이행</td>\n",
       "      <td>포장 - 건조</td>\n",
       "      <td>맑음</td>\n",
       "      <td>단일로 - 기타</td>\n",
       "      <td>승용</td>\n",
       "      <td>남</td>\n",
       "      <td>31</td>\n",
       "      <td>우만동</td>\n",
       "      <td>1</td>\n",
       "      <td>11</td>\n",
       "    </tr>\n",
       "  </tbody>\n",
       "</table>\n",
       "</div>"
      ],
      "text/plain": [
       "    요일  사고내용     법규위반     노면상태 기상상태         도로형태 가해운전자_차종 가해운전자_성별  가해운전자_연령  \\\n",
       "0  금요일     1  안전운전불이행  포장 - 건조   맑음     단일로 - 기타       승용        남        42   \n",
       "1  금요일     1     신호위반  포장 - 건조   맑음  교차로 - 교차로부근       승용        남        57   \n",
       "2  금요일     0     신호위반  포장 - 건조   맑음   교차로 - 교차로안       화물        남        26   \n",
       "3  금요일     0  안전운전불이행  포장 - 건조   맑음  교차로 - 교차로부근       승용        남        23   \n",
       "4  금요일     0  안전운전불이행  포장 - 건조   맑음     단일로 - 기타       승용        남        31   \n",
       "\n",
       "    행정동  발생월  발생시간  \n",
       "0  대황교동    1     4  \n",
       "1   인계동    1     4  \n",
       "2   우만동    1     5  \n",
       "3   인계동    1     6  \n",
       "4   우만동    1    11  "
      ]
     },
     "execution_count": 3,
     "metadata": {},
     "output_type": "execute_result"
    }
   ],
   "source": [
    "del suwon_dnn[\"Unnamed: 0\"]\n",
    "suwon_dnn.head()"
   ]
  },
  {
   "cell_type": "code",
   "execution_count": 4,
   "id": "56a821fb",
   "metadata": {},
   "outputs": [],
   "source": [
    "X = suwon_dnn[[\"요일\",\"노면상태\",\"기상상태\",\"도로형태\",\n",
    "               \"가해운전자_차종\",\"가해운전자_성별\",\"가해운전자_연령\",\"발생월\",\n",
    "               \"발생시간\",\"행정동\"]]\n",
    "y = suwon_dnn[\"사고내용\"]"
   ]
  },
  {
   "cell_type": "code",
   "execution_count": 5,
   "id": "76882bc0",
   "metadata": {},
   "outputs": [],
   "source": [
    "le = LabelEncoder()"
   ]
  },
  {
   "cell_type": "code",
   "execution_count": 6,
   "id": "11048e5e",
   "metadata": {},
   "outputs": [],
   "source": [
    "cols_encode = [\"요일\",\"노면상태\",\"기상상태\",\"도로형태\",\"가해운전자_차종\",\"가해운전자_성별\",\"행정동\"]"
   ]
  },
  {
   "cell_type": "code",
   "execution_count": 7,
   "id": "6948e838",
   "metadata": {},
   "outputs": [
    {
     "name": "stderr",
     "output_type": "stream",
     "text": [
      "<ipython-input-7-24e48132ba01>:2: SettingWithCopyWarning: \n",
      "A value is trying to be set on a copy of a slice from a DataFrame.\n",
      "Try using .loc[row_indexer,col_indexer] = value instead\n",
      "\n",
      "See the caveats in the documentation: https://pandas.pydata.org/pandas-docs/stable/user_guide/indexing.html#returning-a-view-versus-a-copy\n",
      "  X[col] = le.fit_transform(X[col])\n"
     ]
    }
   ],
   "source": [
    "for col in cols_encode:\n",
    "    X[col] = le.fit_transform(X[col])"
   ]
  },
  {
   "cell_type": "code",
   "execution_count": 8,
   "id": "ab435008",
   "metadata": {},
   "outputs": [],
   "source": [
    "X = pd.get_dummies(X, columns=cols_encode)"
   ]
  },
  {
   "cell_type": "code",
   "execution_count": 9,
   "id": "84e0475e",
   "metadata": {},
   "outputs": [],
   "source": [
    "cols_scale = [\"가해운전자_연령\"]\n",
    "scaler = MinMaxScaler()"
   ]
  },
  {
   "cell_type": "code",
   "execution_count": 10,
   "id": "6ba5c0bd",
   "metadata": {},
   "outputs": [],
   "source": [
    "X[cols_scale] = scaler.fit_transform(X[cols_scale])"
   ]
  },
  {
   "cell_type": "code",
   "execution_count": 11,
   "id": "0aedfeb9",
   "metadata": {},
   "outputs": [],
   "source": [
    "X_train, X_test, y_train, y_test =  train_test_split(X, y, test_size=0.3, random_state=123)"
   ]
  },
  {
   "cell_type": "code",
   "execution_count": 12,
   "id": "12a1c05c",
   "metadata": {},
   "outputs": [],
   "source": [
    "X_train.index = range(len(X_train))\n",
    "y_train.index = range(len(y_train))\n",
    "X_test.index = range(len(X_test))\n",
    "y_test.index = range(len(y_test))"
   ]
  },
  {
   "cell_type": "code",
   "execution_count": 13,
   "id": "079e6f84",
   "metadata": {},
   "outputs": [],
   "source": [
    "model = Sequential()"
   ]
  },
  {
   "cell_type": "code",
   "execution_count": 14,
   "id": "10104ced",
   "metadata": {},
   "outputs": [],
   "source": [
    "model.add(Dense(units=100, input_dim=112, activation='relu'))\n",
    "model.add(Dropout(0.5))\n",
    "model.add(Dense(units=300, activation='relu'))\n",
    "model.add(Dropout(0.5))\n",
    "model.add(Dense(units=100, activation='relu'))\n",
    "model.add(Dense(units=1, activation='sigmoid'))"
   ]
  },
  {
   "cell_type": "code",
   "execution_count": 15,
   "id": "719e03f8",
   "metadata": {},
   "outputs": [],
   "source": [
    "model.compile(loss=\"binary_crossentropy\", optimizer=\"adam\",metrics=['accuracy'])"
   ]
  },
  {
   "cell_type": "code",
   "execution_count": 16,
   "id": "3ed0ecce",
   "metadata": {},
   "outputs": [
    {
     "name": "stdout",
     "output_type": "stream",
     "text": [
      "Epoch 1/50\n",
      "267/267 - 1s - loss: 0.5885 - accuracy: 0.7438 - val_loss: 0.5786 - val_accuracy: 0.7486\n",
      "Epoch 2/50\n",
      "267/267 - 1s - loss: 0.5721 - accuracy: 0.7485 - val_loss: 0.5884 - val_accuracy: 0.7486\n",
      "Epoch 3/50\n",
      "267/267 - 1s - loss: 0.5686 - accuracy: 0.7487 - val_loss: 0.5774 - val_accuracy: 0.7486\n",
      "Epoch 4/50\n",
      "267/267 - 1s - loss: 0.5648 - accuracy: 0.7487 - val_loss: 0.5694 - val_accuracy: 0.7486\n",
      "Epoch 5/50\n",
      "267/267 - 1s - loss: 0.5651 - accuracy: 0.7487 - val_loss: 0.5640 - val_accuracy: 0.7486\n",
      "Epoch 6/50\n",
      "267/267 - 1s - loss: 0.5626 - accuracy: 0.7487 - val_loss: 0.5665 - val_accuracy: 0.7486\n",
      "Epoch 7/50\n",
      "267/267 - 1s - loss: 0.5628 - accuracy: 0.7487 - val_loss: 0.5637 - val_accuracy: 0.7486\n",
      "Epoch 8/50\n",
      "267/267 - 1s - loss: 0.5611 - accuracy: 0.7487 - val_loss: 0.5673 - val_accuracy: 0.7486\n",
      "Epoch 9/50\n",
      "267/267 - 1s - loss: 0.5598 - accuracy: 0.7487 - val_loss: 0.5631 - val_accuracy: 0.7486\n",
      "Epoch 10/50\n",
      "267/267 - 1s - loss: 0.5595 - accuracy: 0.7487 - val_loss: 0.5735 - val_accuracy: 0.7486\n",
      "Epoch 11/50\n",
      "267/267 - 1s - loss: 0.5587 - accuracy: 0.7487 - val_loss: 0.5712 - val_accuracy: 0.7486\n",
      "Epoch 12/50\n",
      "267/267 - 1s - loss: 0.5569 - accuracy: 0.7487 - val_loss: 0.5647 - val_accuracy: 0.7486\n",
      "Epoch 13/50\n",
      "267/267 - 1s - loss: 0.5555 - accuracy: 0.7487 - val_loss: 0.5653 - val_accuracy: 0.7486\n",
      "Epoch 14/50\n",
      "267/267 - 1s - loss: 0.5547 - accuracy: 0.7487 - val_loss: 0.5686 - val_accuracy: 0.7486\n",
      "Epoch 15/50\n",
      "267/267 - 1s - loss: 0.5556 - accuracy: 0.7487 - val_loss: 0.5663 - val_accuracy: 0.7486\n",
      "Epoch 16/50\n",
      "267/267 - 1s - loss: 0.5552 - accuracy: 0.7487 - val_loss: 0.5659 - val_accuracy: 0.7486\n",
      "Epoch 17/50\n",
      "267/267 - 1s - loss: 0.5533 - accuracy: 0.7487 - val_loss: 0.5684 - val_accuracy: 0.7486\n",
      "Epoch 18/50\n",
      "267/267 - 1s - loss: 0.5494 - accuracy: 0.7487 - val_loss: 0.5695 - val_accuracy: 0.7486\n",
      "Epoch 19/50\n",
      "267/267 - 1s - loss: 0.5516 - accuracy: 0.7490 - val_loss: 0.5687 - val_accuracy: 0.7486\n",
      "Epoch 20/50\n",
      "267/267 - 1s - loss: 0.5485 - accuracy: 0.7488 - val_loss: 0.5679 - val_accuracy: 0.7471\n",
      "Epoch 21/50\n",
      "267/267 - 1s - loss: 0.5473 - accuracy: 0.7500 - val_loss: 0.5725 - val_accuracy: 0.7468\n",
      "Epoch 22/50\n",
      "267/267 - 1s - loss: 0.5475 - accuracy: 0.7488 - val_loss: 0.5692 - val_accuracy: 0.7471\n",
      "Epoch 23/50\n",
      "267/267 - 1s - loss: 0.5435 - accuracy: 0.7512 - val_loss: 0.5736 - val_accuracy: 0.7474\n",
      "Epoch 24/50\n",
      "267/267 - 1s - loss: 0.5456 - accuracy: 0.7512 - val_loss: 0.5743 - val_accuracy: 0.7447\n",
      "Epoch 25/50\n",
      "267/267 - 1s - loss: 0.5420 - accuracy: 0.7512 - val_loss: 0.5730 - val_accuracy: 0.7468\n",
      "Epoch 26/50\n",
      "267/267 - 1s - loss: 0.5400 - accuracy: 0.7506 - val_loss: 0.5752 - val_accuracy: 0.7447\n",
      "Epoch 27/50\n",
      "267/267 - 1s - loss: 0.5403 - accuracy: 0.7516 - val_loss: 0.5766 - val_accuracy: 0.7450\n",
      "Epoch 28/50\n",
      "267/267 - 1s - loss: 0.5371 - accuracy: 0.7520 - val_loss: 0.5818 - val_accuracy: 0.7408\n",
      "Epoch 29/50\n",
      "267/267 - 1s - loss: 0.5354 - accuracy: 0.7546 - val_loss: 0.5836 - val_accuracy: 0.7435\n",
      "Epoch 30/50\n",
      "267/267 - 1s - loss: 0.5328 - accuracy: 0.7545 - val_loss: 0.5853 - val_accuracy: 0.7450\n",
      "Epoch 31/50\n",
      "267/267 - 1s - loss: 0.5340 - accuracy: 0.7539 - val_loss: 0.5840 - val_accuracy: 0.7435\n",
      "Epoch 32/50\n",
      "267/267 - 1s - loss: 0.5306 - accuracy: 0.7547 - val_loss: 0.5875 - val_accuracy: 0.7411\n",
      "Epoch 33/50\n",
      "267/267 - 1s - loss: 0.5327 - accuracy: 0.7525 - val_loss: 0.5880 - val_accuracy: 0.7435\n",
      "Epoch 34/50\n",
      "267/267 - 1s - loss: 0.5307 - accuracy: 0.7538 - val_loss: 0.5891 - val_accuracy: 0.7423\n",
      "Epoch 35/50\n",
      "267/267 - 1s - loss: 0.5288 - accuracy: 0.7555 - val_loss: 0.5948 - val_accuracy: 0.7357\n",
      "Epoch 36/50\n",
      "267/267 - 1s - loss: 0.5283 - accuracy: 0.7575 - val_loss: 0.5915 - val_accuracy: 0.7366\n",
      "Epoch 37/50\n",
      "267/267 - 1s - loss: 0.5286 - accuracy: 0.7574 - val_loss: 0.5994 - val_accuracy: 0.7372\n",
      "Epoch 38/50\n",
      "267/267 - 1s - loss: 0.5212 - accuracy: 0.7595 - val_loss: 0.6086 - val_accuracy: 0.7360\n",
      "Epoch 39/50\n",
      "267/267 - 1s - loss: 0.5205 - accuracy: 0.7574 - val_loss: 0.6088 - val_accuracy: 0.7333\n",
      "Epoch 40/50\n",
      "267/267 - 1s - loss: 0.5234 - accuracy: 0.7581 - val_loss: 0.6100 - val_accuracy: 0.7324\n",
      "Epoch 41/50\n",
      "267/267 - 1s - loss: 0.5244 - accuracy: 0.7574 - val_loss: 0.6062 - val_accuracy: 0.7336\n",
      "Epoch 42/50\n",
      "267/267 - 1s - loss: 0.5210 - accuracy: 0.7596 - val_loss: 0.6064 - val_accuracy: 0.7390\n",
      "Epoch 43/50\n",
      "267/267 - 1s - loss: 0.5178 - accuracy: 0.7627 - val_loss: 0.6110 - val_accuracy: 0.7396\n",
      "Epoch 44/50\n",
      "267/267 - 1s - loss: 0.5174 - accuracy: 0.7614 - val_loss: 0.6102 - val_accuracy: 0.7299\n",
      "Epoch 45/50\n",
      "267/267 - 1s - loss: 0.5165 - accuracy: 0.7624 - val_loss: 0.6054 - val_accuracy: 0.7305\n",
      "Epoch 46/50\n",
      "267/267 - 1s - loss: 0.5148 - accuracy: 0.7632 - val_loss: 0.6208 - val_accuracy: 0.7312\n",
      "Epoch 47/50\n",
      "267/267 - 1s - loss: 0.5140 - accuracy: 0.7607 - val_loss: 0.6185 - val_accuracy: 0.7290\n",
      "Epoch 48/50\n",
      "267/267 - 1s - loss: 0.5096 - accuracy: 0.7671 - val_loss: 0.6255 - val_accuracy: 0.7318\n",
      "Epoch 49/50\n",
      "267/267 - 1s - loss: 0.5088 - accuracy: 0.7657 - val_loss: 0.6251 - val_accuracy: 0.7321\n",
      "Epoch 50/50\n",
      "267/267 - 1s - loss: 0.5108 - accuracy: 0.7640 - val_loss: 0.6303 - val_accuracy: 0.7327\n"
     ]
    }
   ],
   "source": [
    "hist = model.fit(X_train,y_train,epochs=50, batch_size=50, verbose=2, validation_split=0.2)"
   ]
  },
  {
   "cell_type": "code",
   "execution_count": 17,
   "id": "1d2aad0f",
   "metadata": {},
   "outputs": [
    {
     "name": "stdout",
     "output_type": "stream",
     "text": [
      "model loss: 0.620370626449585\n",
      "model accuracy: 0.7407822608947754\n"
     ]
    }
   ],
   "source": [
    "score = model.evaluate(X_test,y_test,verbose=0)\n",
    "print('model loss:',score[0])\n",
    "print('model accuracy:',score[1])"
   ]
  },
  {
   "cell_type": "code",
   "execution_count": 18,
   "id": "70345029",
   "metadata": {},
   "outputs": [
    {
     "data": {
      "text/plain": [
       "array([[0.2605328]], dtype=float32)"
      ]
     },
     "execution_count": 18,
     "metadata": {},
     "output_type": "execute_result"
    }
   ],
   "source": [
    "model.predict(np.array(X_test.iloc[235]).reshape(-1,112))"
   ]
  },
  {
   "cell_type": "code",
   "execution_count": 19,
   "id": "1cbd033b",
   "metadata": {},
   "outputs": [],
   "source": [
    "X = suwon_dnn[[\"요일\",\"법규위반\",\"노면상태\",\"기상상태\",\"도로형태\",\n",
    "               \"가해운전자_차종\",\"가해운전자_성별\",\"가해운전자_연령\",\"발생월\",\n",
    "               \"발생시간\",\"행정동\"]]\n",
    "y = suwon_dnn[\"사고내용\"]\n",
    "\n",
    "X_train, X_test, y_train, y_test =  train_test_split(X, y, test_size=0.3, random_state=123)"
   ]
  },
  {
   "cell_type": "code",
   "execution_count": 20,
   "id": "be5fa357",
   "metadata": {},
   "outputs": [],
   "source": [
    "X_train.index = range(len(X_train))\n",
    "y_train.index = range(len(y_train))\n",
    "X_test.index = range(len(X_test))\n",
    "y_test.index = range(len(y_test))"
   ]
  },
  {
   "cell_type": "code",
   "execution_count": 21,
   "id": "5a477e4d",
   "metadata": {},
   "outputs": [
    {
     "data": {
      "text/plain": [
       "요일                  화요일\n",
       "법규위반            안전운전불이행\n",
       "노면상태            포장 - 건조\n",
       "기상상태                 맑음\n",
       "도로형태        교차로 - 교차로부근\n",
       "가해운전자_차종             승용\n",
       "가해운전자_성별              남\n",
       "가해운전자_연령             37\n",
       "발생월                   4\n",
       "발생시간                 21\n",
       "행정동                 인계동\n",
       "Name: 235, dtype: object"
      ]
     },
     "execution_count": 21,
     "metadata": {},
     "output_type": "execute_result"
    }
   ],
   "source": [
    "X_test.iloc[235]"
   ]
  },
  {
   "cell_type": "code",
   "execution_count": null,
   "id": "418e4cfe",
   "metadata": {},
   "outputs": [],
   "source": []
  }
 ],
 "metadata": {
  "kernelspec": {
   "display_name": "Python 3",
   "language": "python",
   "name": "python3"
  },
  "language_info": {
   "codemirror_mode": {
    "name": "ipython",
    "version": 3
   },
   "file_extension": ".py",
   "mimetype": "text/x-python",
   "name": "python",
   "nbconvert_exporter": "python",
   "pygments_lexer": "ipython3",
   "version": "3.8.8"
  },
  "toc": {
   "base_numbering": 1,
   "nav_menu": {},
   "number_sections": true,
   "sideBar": true,
   "skip_h1_title": false,
   "title_cell": "Table of Contents",
   "title_sidebar": "Contents",
   "toc_cell": false,
   "toc_position": {},
   "toc_section_display": true,
   "toc_window_display": false
  },
  "varInspector": {
   "cols": {
    "lenName": 16,
    "lenType": 16,
    "lenVar": 40
   },
   "kernels_config": {
    "python": {
     "delete_cmd_postfix": "",
     "delete_cmd_prefix": "del ",
     "library": "var_list.py",
     "varRefreshCmd": "print(var_dic_list())"
    },
    "r": {
     "delete_cmd_postfix": ") ",
     "delete_cmd_prefix": "rm(",
     "library": "var_list.r",
     "varRefreshCmd": "cat(var_dic_list()) "
    }
   },
   "types_to_exclude": [
    "module",
    "function",
    "builtin_function_or_method",
    "instance",
    "_Feature"
   ],
   "window_display": false
  }
 },
 "nbformat": 4,
 "nbformat_minor": 5
}
